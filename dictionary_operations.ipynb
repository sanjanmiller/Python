{
 "cells": [
  {
   "cell_type": "code",
   "execution_count": 2,
   "id": "41581244-3b1b-4932-92de-4fa6776cb271",
   "metadata": {},
   "outputs": [],
   "source": [
    "d={}"
   ]
  },
  {
   "cell_type": "code",
   "execution_count": 3,
   "id": "4664f0e5-2921-42d6-b550-363a314dfa78",
   "metadata": {},
   "outputs": [
    {
     "data": {
      "text/plain": [
       "dict"
      ]
     },
     "execution_count": 3,
     "metadata": {},
     "output_type": "execute_result"
    }
   ],
   "source": [
    "type(d)"
   ]
  },
  {
   "cell_type": "code",
   "execution_count": 4,
   "id": "8dcad1f4-0b71-4e2a-8901-104dbe9caaa3",
   "metadata": {},
   "outputs": [],
   "source": [
    "d={1:'one',2:'two',3:'three',4:'four'}"
   ]
  },
  {
   "cell_type": "code",
   "execution_count": 5,
   "id": "8ca770e3-24fc-4fd6-b5d5-96fd7b73d678",
   "metadata": {},
   "outputs": [
    {
     "data": {
      "text/plain": [
       "{1: 'one', 2: 'two', 3: 'three', 4: 'four'}"
      ]
     },
     "execution_count": 5,
     "metadata": {},
     "output_type": "execute_result"
    }
   ],
   "source": [
    "d"
   ]
  },
  {
   "cell_type": "code",
   "execution_count": 6,
   "id": "31b9df73-bc29-4acd-8208-35281e6aa33c",
   "metadata": {},
   "outputs": [
    {
     "data": {
      "text/plain": [
       "dict_keys([1, 2, 3, 4])"
      ]
     },
     "execution_count": 6,
     "metadata": {},
     "output_type": "execute_result"
    }
   ],
   "source": [
    "d.keys()"
   ]
  },
  {
   "cell_type": "code",
   "execution_count": 7,
   "id": "080593b4-a8f8-47cf-90db-f257a02a0094",
   "metadata": {},
   "outputs": [
    {
     "data": {
      "text/plain": [
       "dict_values(['one', 'two', 'three', 'four'])"
      ]
     },
     "execution_count": 7,
     "metadata": {},
     "output_type": "execute_result"
    }
   ],
   "source": [
    "d.values()"
   ]
  },
  {
   "cell_type": "code",
   "execution_count": 8,
   "id": "f3736802-5ec9-4f20-ad26-45b4b3da49b0",
   "metadata": {},
   "outputs": [
    {
     "data": {
      "text/plain": [
       "{1: 'one', 2: 'two', 3: 'three', 4: 'four'}"
      ]
     },
     "execution_count": 8,
     "metadata": {},
     "output_type": "execute_result"
    }
   ],
   "source": [
    "d"
   ]
  },
  {
   "cell_type": "code",
   "execution_count": 9,
   "id": "3bdd9b8c-f581-430b-a81c-94d564c20a7e",
   "metadata": {},
   "outputs": [
    {
     "data": {
      "text/plain": [
       "dict_items([(1, 'one'), (2, 'two'), (3, 'three'), (4, 'four')])"
      ]
     },
     "execution_count": 9,
     "metadata": {},
     "output_type": "execute_result"
    }
   ],
   "source": [
    "d.items()"
   ]
  },
  {
   "cell_type": "code",
   "execution_count": 10,
   "id": "1835f58b-c76f-47d7-a51d-058efef07479",
   "metadata": {},
   "outputs": [
    {
     "data": {
      "text/plain": [
       "4"
      ]
     },
     "execution_count": 10,
     "metadata": {},
     "output_type": "execute_result"
    }
   ],
   "source": [
    "len(d.items())"
   ]
  },
  {
   "cell_type": "code",
   "execution_count": 11,
   "id": "5d6c862e-14a6-45ca-8866-9cd3aa6287b5",
   "metadata": {},
   "outputs": [
    {
     "data": {
      "text/plain": [
       "'one'"
      ]
     },
     "execution_count": 11,
     "metadata": {},
     "output_type": "execute_result"
    }
   ],
   "source": [
    "d[1]"
   ]
  },
  {
   "cell_type": "code",
   "execution_count": 12,
   "id": "1e298c7c-9f0b-4e1b-8292-76516cbee1d1",
   "metadata": {},
   "outputs": [
    {
     "data": {
      "text/plain": [
       "'one'"
      ]
     },
     "execution_count": 12,
     "metadata": {},
     "output_type": "execute_result"
    }
   ],
   "source": [
    "d.get(1)"
   ]
  },
  {
   "cell_type": "code",
   "execution_count": 14,
   "id": "cfa42ec6-c506-499d-b25a-5ebe005331e9",
   "metadata": {},
   "outputs": [],
   "source": [
    "mydict = {'Name':'John' , 'ID': 74123 , 'DOB': 1991 , 'job' :'Analyst'}"
   ]
  },
  {
   "cell_type": "code",
   "execution_count": 15,
   "id": "f0bdea44-6f35-4434-953e-c4694074d165",
   "metadata": {},
   "outputs": [
    {
     "data": {
      "text/plain": [
       "{'Name': 'John', 'ID': 74123, 'DOB': 1991, 'job': 'Analyst'}"
      ]
     },
     "execution_count": 15,
     "metadata": {},
     "output_type": "execute_result"
    }
   ],
   "source": [
    "mydict"
   ]
  },
  {
   "cell_type": "code",
   "execution_count": 17,
   "id": "230d436b-80af-4f4d-914f-c53ff2766312",
   "metadata": {},
   "outputs": [
    {
     "data": {
      "text/plain": [
       "'John'"
      ]
     },
     "execution_count": 17,
     "metadata": {},
     "output_type": "execute_result"
    }
   ],
   "source": [
    "mydict['Name']"
   ]
  },
  {
   "cell_type": "code",
   "execution_count": 18,
   "id": "2ddd72f4-6299-4456-b4b4-6588e6c2503f",
   "metadata": {},
   "outputs": [
    {
     "data": {
      "text/plain": [
       "'Analyst'"
      ]
     },
     "execution_count": 18,
     "metadata": {},
     "output_type": "execute_result"
    }
   ],
   "source": [
    "mydict['job']"
   ]
  },
  {
   "cell_type": "code",
   "execution_count": 21,
   "id": "07d02da4-23a1-40dd-9dd7-c48256de67cb",
   "metadata": {},
   "outputs": [
    {
     "data": {
      "text/plain": [
       "{'Name': 'John', 'ID': 74123, 'DOB': 1992, 'job': 'Developer'}"
      ]
     },
     "execution_count": 21,
     "metadata": {},
     "output_type": "execute_result"
    }
   ],
   "source": [
    "mydict['job']='Developer'\n",
    "mydict['DOB']=1992\n",
    "mydict"
   ]
  },
  {
   "cell_type": "code",
   "execution_count": 22,
   "id": "f7ef5b54-3f0c-45ef-a4a3-3fbe2ef9adea",
   "metadata": {},
   "outputs": [
    {
     "data": {
      "text/plain": [
       "{'Name': 'John', 'ID': 12345, 'DOB': 1992, 'job': 'Developer'}"
      ]
     },
     "execution_count": 22,
     "metadata": {},
     "output_type": "execute_result"
    }
   ],
   "source": [
    "dict1={'ID':12345}\n",
    "mydict.update(dict1)\n",
    "mydict"
   ]
  },
  {
   "cell_type": "code",
   "execution_count": 23,
   "id": "01122c00-d753-49b8-ad88-bafb8d95afeb",
   "metadata": {},
   "outputs": [
    {
     "data": {
      "text/plain": [
       "('job', 'Developer')"
      ]
     },
     "execution_count": 23,
     "metadata": {},
     "output_type": "execute_result"
    }
   ],
   "source": [
    "mydict.popitem()"
   ]
  },
  {
   "cell_type": "code",
   "execution_count": 26,
   "id": "335bc0a5-0334-4be7-9a6a-b9c55a8b4ec6",
   "metadata": {},
   "outputs": [
    {
     "data": {
      "text/plain": [
       "12345"
      ]
     },
     "execution_count": 26,
     "metadata": {},
     "output_type": "execute_result"
    }
   ],
   "source": [
    "mydict.pop('ID')"
   ]
  },
  {
   "cell_type": "code",
   "execution_count": 27,
   "id": "64646b16-3806-4421-b409-c9097c82a44b",
   "metadata": {},
   "outputs": [],
   "source": [
    "del mydict['Name']"
   ]
  },
  {
   "cell_type": "code",
   "execution_count": 28,
   "id": "3c982648-01a1-42b3-b0eb-ecaac53dd1e5",
   "metadata": {},
   "outputs": [
    {
     "data": {
      "text/plain": [
       "{'DOB': 1992}"
      ]
     },
     "execution_count": 28,
     "metadata": {},
     "output_type": "execute_result"
    }
   ],
   "source": [
    "mydict"
   ]
  },
  {
   "cell_type": "code",
   "execution_count": 29,
   "id": "f6263bbc-0556-470d-9b64-481df83796cf",
   "metadata": {},
   "outputs": [],
   "source": [
    "mydict.clear()"
   ]
  },
  {
   "cell_type": "code",
   "execution_count": 30,
   "id": "3d15cf41-12cf-4753-90f0-2f2133d6fedd",
   "metadata": {},
   "outputs": [
    {
     "data": {
      "text/plain": [
       "{}"
      ]
     },
     "execution_count": 30,
     "metadata": {},
     "output_type": "execute_result"
    }
   ],
   "source": [
    "mydict"
   ]
  },
  {
   "cell_type": "code",
   "execution_count": 31,
   "id": "1bfb7288-f8d0-41bb-905a-6bee63d94f77",
   "metadata": {},
   "outputs": [
    {
     "data": {
      "text/plain": [
       "dict"
      ]
     },
     "execution_count": 31,
     "metadata": {},
     "output_type": "execute_result"
    }
   ],
   "source": [
    "type(mydict)"
   ]
  },
  {
   "cell_type": "code",
   "execution_count": 32,
   "id": "8c97db0c-4b6b-4ad0-89e4-ff05b2ab76a6",
   "metadata": {},
   "outputs": [
    {
     "data": {
      "text/plain": [
       "{'Name': 'John', 'ID': 74123, 'DOB': 1991, 'job': 'Analyst'}"
      ]
     },
     "execution_count": 32,
     "metadata": {},
     "output_type": "execute_result"
    }
   ],
   "source": [
    "mydict1 = {'Name':'John' , 'ID': 74123 , 'DOB': 1991 , 'job' :'Analyst'}\n",
    "mydict1"
   ]
  },
  {
   "cell_type": "code",
   "execution_count": 33,
   "id": "835d5c88-c72c-4b88-8a51-277a06d4ae0d",
   "metadata": {},
   "outputs": [
    {
     "data": {
      "text/plain": [
       "{'Name': 'John', 'ID': 74123, 'DOB': 1991, 'job': 'Analyst'}"
      ]
     },
     "execution_count": 33,
     "metadata": {},
     "output_type": "execute_result"
    }
   ],
   "source": [
    "mydict2=mydict1.copy()\n",
    "mydict2"
   ]
  },
  {
   "cell_type": "code",
   "execution_count": 34,
   "id": "10b3e0df-506f-4cfa-8e59-63d849b39e0d",
   "metadata": {},
   "outputs": [
    {
     "data": {
      "text/plain": [
       "2183399472640"
      ]
     },
     "execution_count": 34,
     "metadata": {},
     "output_type": "execute_result"
    }
   ],
   "source": [
    "id(mydict1)"
   ]
  },
  {
   "cell_type": "code",
   "execution_count": 35,
   "id": "eeb20ddd-7240-44cc-b960-0ad5d645d822",
   "metadata": {},
   "outputs": [
    {
     "data": {
      "text/plain": [
       "2183399474816"
      ]
     },
     "execution_count": 35,
     "metadata": {},
     "output_type": "execute_result"
    }
   ],
   "source": [
    "id(mydict2)"
   ]
  },
  {
   "cell_type": "code",
   "execution_count": null,
   "id": "69f46a9b-314b-4bdc-b5ee-ce1ab1d123ff",
   "metadata": {},
   "outputs": [],
   "source": []
  }
 ],
 "metadata": {
  "kernelspec": {
   "display_name": "Python 3 (ipykernel)",
   "language": "python",
   "name": "python3"
  },
  "language_info": {
   "codemirror_mode": {
    "name": "ipython",
    "version": 3
   },
   "file_extension": ".py",
   "mimetype": "text/x-python",
   "name": "python",
   "nbconvert_exporter": "python",
   "pygments_lexer": "ipython3",
   "version": "3.12.7"
  }
 },
 "nbformat": 4,
 "nbformat_minor": 5
}
