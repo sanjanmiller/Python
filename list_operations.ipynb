{
 "cells": [
  {
   "cell_type": "code",
   "execution_count": 25,
   "id": "02fc87f5-0ea4-47ab-bbc6-66078f07a202",
   "metadata": {},
   "outputs": [
    {
     "data": {
      "text/plain": [
       "[]"
      ]
     },
     "execution_count": 25,
     "metadata": {},
     "output_type": "execute_result"
    }
   ],
   "source": [
    "l=[]\n",
    "l"
   ]
  },
  {
   "cell_type": "code",
   "execution_count": 26,
   "id": "31b6c289-7e26-4dbb-9f41-9277a5648cb9",
   "metadata": {},
   "outputs": [
    {
     "data": {
      "text/plain": [
       "[10, 20, 30]"
      ]
     },
     "execution_count": 26,
     "metadata": {},
     "output_type": "execute_result"
    }
   ],
   "source": [
    "l.append(10)\n",
    "l.append(20)\n",
    "l.append(30)\n",
    "l"
   ]
  },
  {
   "cell_type": "code",
   "execution_count": 27,
   "id": "febd29b3-2d89-4abd-a9ed-484c7fc4b069",
   "metadata": {},
   "outputs": [
    {
     "data": {
      "text/plain": [
       "[10, 20, 30, 70, 80, 'sanjan', (2+3j), 45, 49]"
      ]
     },
     "execution_count": 27,
     "metadata": {},
     "output_type": "execute_result"
    }
   ],
   "source": [
    "l.append(70)\n",
    "l.append(80)\n",
    "l.append('sanjan')\n",
    "l.append(2+3j)\n",
    "l.append(45)\n",
    "l.append(49)\n",
    "l"
   ]
  },
  {
   "cell_type": "code",
   "execution_count": 28,
   "id": "e7a53920-2ba6-49d0-b232-a5a688819b86",
   "metadata": {},
   "outputs": [
    {
     "data": {
      "text/plain": [
       "9"
      ]
     },
     "execution_count": 28,
     "metadata": {},
     "output_type": "execute_result"
    }
   ],
   "source": [
    "len(l)"
   ]
  },
  {
   "cell_type": "code",
   "execution_count": 29,
   "id": "4082c060-f6f5-4c99-8772-9389553d7619",
   "metadata": {},
   "outputs": [
    {
     "data": {
      "text/plain": [
       "[10, 70, (2+3j)]"
      ]
     },
     "execution_count": 29,
     "metadata": {},
     "output_type": "execute_result"
    }
   ],
   "source": [
    "l[:8:3]"
   ]
  },
  {
   "cell_type": "code",
   "execution_count": 30,
   "id": "4b665a61-b58a-415a-a6a4-03650788a6b8",
   "metadata": {},
   "outputs": [
    {
     "data": {
      "text/plain": [
       "[10, 20, [30, 40], 'sanjan']"
      ]
     },
     "execution_count": 30,
     "metadata": {},
     "output_type": "execute_result"
    }
   ],
   "source": [
    "l2=[10,20,[30,40],'sanjan']\n",
    "l2"
   ]
  },
  {
   "cell_type": "code",
   "execution_count": 31,
   "id": "7e98a2e7-4bb7-4ebb-b645-b8860e0e5925",
   "metadata": {},
   "outputs": [
    {
     "data": {
      "text/plain": [
       "4"
      ]
     },
     "execution_count": 31,
     "metadata": {},
     "output_type": "execute_result"
    }
   ],
   "source": [
    "len(l2)"
   ]
  },
  {
   "cell_type": "code",
   "execution_count": 32,
   "id": "75960a84-08ab-493d-9d21-7de803a76933",
   "metadata": {},
   "outputs": [
    {
     "data": {
      "text/plain": [
       "[30, 40]"
      ]
     },
     "execution_count": 32,
     "metadata": {},
     "output_type": "execute_result"
    }
   ],
   "source": [
    "l2[2]"
   ]
  },
  {
   "cell_type": "code",
   "execution_count": 33,
   "id": "42b3894c-30e6-4d49-a313-7c0c23fc913f",
   "metadata": {},
   "outputs": [],
   "source": [
    "l2.append(45)"
   ]
  },
  {
   "cell_type": "code",
   "execution_count": 34,
   "id": "0f228fe0-a4ef-4073-95cb-cc010eececf7",
   "metadata": {},
   "outputs": [
    {
     "data": {
      "text/plain": [
       "[10, 20, [30, 40], 'sanjan', 45]"
      ]
     },
     "execution_count": 34,
     "metadata": {},
     "output_type": "execute_result"
    }
   ],
   "source": [
    "l2"
   ]
  },
  {
   "cell_type": "code",
   "execution_count": 35,
   "id": "98839d5f-c24c-4d50-acbf-e453772946d5",
   "metadata": {},
   "outputs": [],
   "source": [
    "l2.append(45)"
   ]
  },
  {
   "cell_type": "code",
   "execution_count": 36,
   "id": "e2723d3e-1582-4d3e-a803-50a740e80509",
   "metadata": {},
   "outputs": [
    {
     "data": {
      "text/plain": [
       "[10, 20, [30, 40], 'sanjan', 45, 45]"
      ]
     },
     "execution_count": 36,
     "metadata": {},
     "output_type": "execute_result"
    }
   ],
   "source": [
    "l2"
   ]
  },
  {
   "cell_type": "code",
   "execution_count": 37,
   "id": "dfe771c9-6428-44c3-947d-5c3a5024ca82",
   "metadata": {},
   "outputs": [
    {
     "data": {
      "text/plain": [
       "2"
      ]
     },
     "execution_count": 37,
     "metadata": {},
     "output_type": "execute_result"
    }
   ],
   "source": [
    "l2.count(45)"
   ]
  },
  {
   "cell_type": "code",
   "execution_count": 38,
   "id": "c2c3592b-7013-452d-be06-c72d5ea8464a",
   "metadata": {},
   "outputs": [],
   "source": [
    "l3=l2.copy()"
   ]
  },
  {
   "cell_type": "code",
   "execution_count": 39,
   "id": "4be70605-28e6-4d68-8168-22eab9187691",
   "metadata": {},
   "outputs": [
    {
     "data": {
      "text/plain": [
       "[10, 20, [30, 40], 'sanjan', 45, 45]"
      ]
     },
     "execution_count": 39,
     "metadata": {},
     "output_type": "execute_result"
    }
   ],
   "source": [
    "l3"
   ]
  },
  {
   "cell_type": "code",
   "execution_count": 42,
   "id": "225a86c5-39de-4a52-aa30-8e4f1d88ccc4",
   "metadata": {},
   "outputs": [],
   "source": [
    "l2.extend(l3)"
   ]
  },
  {
   "cell_type": "code",
   "execution_count": 43,
   "id": "7e096817-9f7a-4324-b119-aa3427b9066f",
   "metadata": {},
   "outputs": [
    {
     "data": {
      "text/plain": [
       "[10,\n",
       " 20,\n",
       " [30, 40],\n",
       " 'sanjan',\n",
       " 45,\n",
       " 45,\n",
       " 10,\n",
       " 20,\n",
       " [30, 40],\n",
       " 'sanjan',\n",
       " 45,\n",
       " 45,\n",
       " 10,\n",
       " 20,\n",
       " [30, 40],\n",
       " 'sanjan',\n",
       " 45,\n",
       " 45]"
      ]
     },
     "execution_count": 43,
     "metadata": {},
     "output_type": "execute_result"
    }
   ],
   "source": [
    "l2"
   ]
  },
  {
   "cell_type": "code",
   "execution_count": 44,
   "id": "4a38fb77-418a-4438-a8a1-ecc81a1ed74c",
   "metadata": {},
   "outputs": [
    {
     "data": {
      "text/plain": [
       "18"
      ]
     },
     "execution_count": 44,
     "metadata": {},
     "output_type": "execute_result"
    }
   ],
   "source": [
    "len(l2)"
   ]
  },
  {
   "cell_type": "code",
   "execution_count": 45,
   "id": "a04732c0-1bed-4a97-910e-b8076bab3fbf",
   "metadata": {},
   "outputs": [
    {
     "data": {
      "text/plain": [
       "45"
      ]
     },
     "execution_count": 45,
     "metadata": {},
     "output_type": "execute_result"
    }
   ],
   "source": [
    "l2.pop()"
   ]
  },
  {
   "cell_type": "code",
   "execution_count": 47,
   "id": "b725839f-e588-41af-bd2b-7c7f3b3d50fb",
   "metadata": {},
   "outputs": [],
   "source": [
    "l2.remove(45)"
   ]
  },
  {
   "cell_type": "code",
   "execution_count": 48,
   "id": "c178a399-988b-4564-9c06-ed81dbc48501",
   "metadata": {},
   "outputs": [
    {
     "data": {
      "text/plain": [
       "[10,\n",
       " 20,\n",
       " [30, 40],\n",
       " 'sanjan',\n",
       " 45,\n",
       " 10,\n",
       " 20,\n",
       " [30, 40],\n",
       " 'sanjan',\n",
       " 45,\n",
       " 45,\n",
       " 10,\n",
       " 20,\n",
       " [30, 40],\n",
       " 'sanjan',\n",
       " 45]"
      ]
     },
     "execution_count": 48,
     "metadata": {},
     "output_type": "execute_result"
    }
   ],
   "source": [
    "l2"
   ]
  },
  {
   "cell_type": "code",
   "execution_count": 49,
   "id": "dd9390b4-0fb1-4d24-b780-0c6e9e5857a5",
   "metadata": {},
   "outputs": [],
   "source": [
    "l2.remove('sanjan')"
   ]
  },
  {
   "cell_type": "code",
   "execution_count": 50,
   "id": "8d1ec5ce-508d-421f-ac0f-551cc560a5db",
   "metadata": {},
   "outputs": [
    {
     "data": {
      "text/plain": [
       "[10,\n",
       " 20,\n",
       " [30, 40],\n",
       " 45,\n",
       " 10,\n",
       " 20,\n",
       " [30, 40],\n",
       " 'sanjan',\n",
       " 45,\n",
       " 45,\n",
       " 10,\n",
       " 20,\n",
       " [30, 40],\n",
       " 'sanjan',\n",
       " 45]"
      ]
     },
     "execution_count": 50,
     "metadata": {},
     "output_type": "execute_result"
    }
   ],
   "source": [
    "l2"
   ]
  },
  {
   "cell_type": "code",
   "execution_count": 51,
   "id": "461582fb-776f-4e19-a75b-fe8b6dc830bd",
   "metadata": {},
   "outputs": [],
   "source": [
    "l2.clear()"
   ]
  },
  {
   "cell_type": "code",
   "execution_count": 52,
   "id": "4ae3270f-9771-4e63-a223-ffc6745762b4",
   "metadata": {},
   "outputs": [
    {
     "data": {
      "text/plain": [
       "[]"
      ]
     },
     "execution_count": 52,
     "metadata": {},
     "output_type": "execute_result"
    }
   ],
   "source": [
    "l2"
   ]
  },
  {
   "cell_type": "code",
   "execution_count": 53,
   "id": "eec9a2b4-6dc6-4ba3-9f81-f98300998a73",
   "metadata": {},
   "outputs": [],
   "source": [
    "l2=[4,9,1,87,3]"
   ]
  },
  {
   "cell_type": "code",
   "execution_count": 54,
   "id": "a8c401a7-ad70-472c-8efb-c0fa5e9c0d0e",
   "metadata": {},
   "outputs": [],
   "source": [
    "l2.sort()"
   ]
  },
  {
   "cell_type": "code",
   "execution_count": 55,
   "id": "f80b66cf-221b-44ce-9664-fecb79a1a819",
   "metadata": {},
   "outputs": [
    {
     "data": {
      "text/plain": [
       "[1, 3, 4, 9, 87]"
      ]
     },
     "execution_count": 55,
     "metadata": {},
     "output_type": "execute_result"
    }
   ],
   "source": [
    "l2"
   ]
  },
  {
   "cell_type": "code",
   "execution_count": 58,
   "id": "4fa4665a-6af8-4675-8485-12beec5a7cd1",
   "metadata": {},
   "outputs": [],
   "source": [
    "l2.sort(reverse=True)"
   ]
  },
  {
   "cell_type": "code",
   "execution_count": 59,
   "id": "6c4fc6f5-3efb-4243-b6d2-63ac435da97c",
   "metadata": {},
   "outputs": [
    {
     "data": {
      "text/plain": [
       "[87, 9, 4, 3, 1]"
      ]
     },
     "execution_count": 59,
     "metadata": {},
     "output_type": "execute_result"
    }
   ],
   "source": [
    "l2"
   ]
  },
  {
   "cell_type": "code",
   "execution_count": 60,
   "id": "b163c86b-9222-4b75-b1a5-2bc3ac73a307",
   "metadata": {},
   "outputs": [],
   "source": [
    "l2.reverse()"
   ]
  },
  {
   "cell_type": "code",
   "execution_count": 61,
   "id": "d1c57b80-b12c-4100-b7cb-76cef560f0f0",
   "metadata": {},
   "outputs": [
    {
     "data": {
      "text/plain": [
       "[1, 3, 4, 9, 87]"
      ]
     },
     "execution_count": 61,
     "metadata": {},
     "output_type": "execute_result"
    }
   ],
   "source": [
    "l2"
   ]
  },
  {
   "cell_type": "code",
   "execution_count": null,
   "id": "2a20cf8a-a576-4b96-a0ea-fc1c99c7d933",
   "metadata": {},
   "outputs": [],
   "source": []
  }
 ],
 "metadata": {
  "kernelspec": {
   "display_name": "Python 3 (ipykernel)",
   "language": "python",
   "name": "python3"
  },
  "language_info": {
   "codemirror_mode": {
    "name": "ipython",
    "version": 3
   },
   "file_extension": ".py",
   "mimetype": "text/x-python",
   "name": "python",
   "nbconvert_exporter": "python",
   "pygments_lexer": "ipython3",
   "version": "3.12.7"
  }
 },
 "nbformat": 4,
 "nbformat_minor": 5
}
