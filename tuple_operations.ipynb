{
 "cells": [
  {
   "cell_type": "code",
   "execution_count": 48,
   "id": "9e7b62c9-d36e-4e76-83cc-69852b97facb",
   "metadata": {},
   "outputs": [],
   "source": [
    "t1=tuple()"
   ]
  },
  {
   "cell_type": "code",
   "execution_count": 49,
   "id": "dee08225-83c5-4433-94b4-a8086135f219",
   "metadata": {},
   "outputs": [
    {
     "data": {
      "text/plain": [
       "()"
      ]
     },
     "execution_count": 49,
     "metadata": {},
     "output_type": "execute_result"
    }
   ],
   "source": [
    "t1"
   ]
  },
  {
   "cell_type": "code",
   "execution_count": 50,
   "id": "60b86829-f262-471c-83ca-4676c6a8549f",
   "metadata": {},
   "outputs": [],
   "source": [
    "t2=(10,20,30)"
   ]
  },
  {
   "cell_type": "code",
   "execution_count": 51,
   "id": "9be9c323-6a77-40c4-9702-4d88dc7edf58",
   "metadata": {},
   "outputs": [
    {
     "data": {
      "text/plain": [
       "(10, 20, 30)"
      ]
     },
     "execution_count": 51,
     "metadata": {},
     "output_type": "execute_result"
    }
   ],
   "source": [
    "t2"
   ]
  },
  {
   "cell_type": "code",
   "execution_count": 52,
   "id": "7e04b49a-0586-4927-8f9a-583c3cb6732a",
   "metadata": {},
   "outputs": [],
   "source": [
    "t3=('sanjan',3.14,2+3j)"
   ]
  },
  {
   "cell_type": "code",
   "execution_count": 53,
   "id": "a5b26c55-496b-48c6-a0cf-282b807b61de",
   "metadata": {},
   "outputs": [
    {
     "data": {
      "text/plain": [
       "('sanjan', 3.14, (2+3j))"
      ]
     },
     "execution_count": 53,
     "metadata": {},
     "output_type": "execute_result"
    }
   ],
   "source": [
    "t3"
   ]
  },
  {
   "cell_type": "code",
   "execution_count": 54,
   "id": "0a5d8052-c5c4-45f7-a11d-0b3546bb8390",
   "metadata": {},
   "outputs": [],
   "source": [
    "t4=('miller',(2,5),3.14)"
   ]
  },
  {
   "cell_type": "code",
   "execution_count": 55,
   "id": "80a6fe06-0cac-4408-95d7-f0805e146af5",
   "metadata": {},
   "outputs": [
    {
     "data": {
      "text/plain": [
       "('miller', (2, 5), 3.14)"
      ]
     },
     "execution_count": 55,
     "metadata": {},
     "output_type": "execute_result"
    }
   ],
   "source": [
    "t4"
   ]
  },
  {
   "cell_type": "code",
   "execution_count": 56,
   "id": "8e452661-2266-4a5d-b7a9-cfdfb27fdce7",
   "metadata": {},
   "outputs": [
    {
     "data": {
      "text/plain": [
       "'miller'"
      ]
     },
     "execution_count": 56,
     "metadata": {},
     "output_type": "execute_result"
    }
   ],
   "source": [
    "t4[0]"
   ]
  },
  {
   "cell_type": "code",
   "execution_count": 57,
   "id": "afd7d4a0-abd1-4f25-8cc1-cbfc4d94f02b",
   "metadata": {},
   "outputs": [
    {
     "data": {
      "text/plain": [
       "3"
      ]
     },
     "execution_count": 57,
     "metadata": {},
     "output_type": "execute_result"
    }
   ],
   "source": [
    "len(t4)"
   ]
  },
  {
   "cell_type": "code",
   "execution_count": 58,
   "id": "809919a6-dea2-4e4c-b57a-446cede91f6e",
   "metadata": {},
   "outputs": [],
   "source": [
    "t5=(1,3,5+7j,55,'sanjan',6,7,6)"
   ]
  },
  {
   "cell_type": "code",
   "execution_count": 59,
   "id": "996bf319-4f1c-4c97-9bbc-95f232df0075",
   "metadata": {},
   "outputs": [
    {
     "data": {
      "text/plain": [
       "2"
      ]
     },
     "execution_count": 59,
     "metadata": {},
     "output_type": "execute_result"
    }
   ],
   "source": [
    "t5.count(6)"
   ]
  },
  {
   "cell_type": "code",
   "execution_count": 60,
   "id": "ebbaff4e-38c1-4f9b-b7bd-39328d730413",
   "metadata": {},
   "outputs": [
    {
     "data": {
      "text/plain": [
       "4"
      ]
     },
     "execution_count": 60,
     "metadata": {},
     "output_type": "execute_result"
    }
   ],
   "source": [
    "t5.index('sanjan')"
   ]
  },
  {
   "cell_type": "code",
   "execution_count": 61,
   "id": "3a345fc6-0518-4571-a8d1-1f02faa58b1e",
   "metadata": {},
   "outputs": [
    {
     "ename": "AttributeError",
     "evalue": "'tuple' object has no attribute 'copy'",
     "output_type": "error",
     "traceback": [
      "\u001b[1;31m---------------------------------------------------------------------------\u001b[0m",
      "\u001b[1;31mAttributeError\u001b[0m                            Traceback (most recent call last)",
      "Cell \u001b[1;32mIn[61], line 1\u001b[0m\n\u001b[1;32m----> 1\u001b[0m t6\u001b[38;5;241m=\u001b[39mt5\u001b[38;5;241m.\u001b[39mcopy()\n",
      "\u001b[1;31mAttributeError\u001b[0m: 'tuple' object has no attribute 'copy'"
     ]
    }
   ],
   "source": [
    "t6=t5.copy()"
   ]
  },
  {
   "cell_type": "code",
   "execution_count": 62,
   "id": "b6abd3c4-e3f0-4f7c-a6f8-28de7f554c5a",
   "metadata": {},
   "outputs": [
    {
     "data": {
      "text/plain": [
       "(1, 3, (5+7j), 55, 'sanjan', 6, 7, 6)"
      ]
     },
     "execution_count": 62,
     "metadata": {},
     "output_type": "execute_result"
    }
   ],
   "source": [
    "t5"
   ]
  },
  {
   "cell_type": "code",
   "execution_count": 63,
   "id": "5ec61341-8e10-4723-9f24-8ccb2e18bca0",
   "metadata": {},
   "outputs": [
    {
     "data": {
      "text/plain": [
       "(1, 3, (5+7j), 55, 'sanjan', 6, 7, 6)"
      ]
     },
     "execution_count": 63,
     "metadata": {},
     "output_type": "execute_result"
    }
   ],
   "source": [
    "t5[:]"
   ]
  },
  {
   "cell_type": "code",
   "execution_count": 64,
   "id": "542a922e-abd9-4239-9b9c-da18651fcf97",
   "metadata": {},
   "outputs": [
    {
     "data": {
      "text/plain": [
       "(3, (5+7j), 55)"
      ]
     },
     "execution_count": 64,
     "metadata": {},
     "output_type": "execute_result"
    }
   ],
   "source": [
    "t5[1:4]"
   ]
  },
  {
   "cell_type": "code",
   "execution_count": 65,
   "id": "444a3fb4-47e6-420e-a0e1-5fa5a52bd26b",
   "metadata": {},
   "outputs": [
    {
     "data": {
      "text/plain": [
       "(6, 7, 6, 'sanjan', 55, (5+7j), 3, 1)"
      ]
     },
     "execution_count": 65,
     "metadata": {},
     "output_type": "execute_result"
    }
   ],
   "source": [
    "t5[::-1]"
   ]
  },
  {
   "cell_type": "code",
   "execution_count": 66,
   "id": "c237c0fc-0cc0-4f66-8a69-23ce3bb83f03",
   "metadata": {},
   "outputs": [
    {
     "data": {
      "text/plain": [
       "(6,)"
      ]
     },
     "execution_count": 66,
     "metadata": {},
     "output_type": "execute_result"
    }
   ],
   "source": [
    "t5[-1:]"
   ]
  },
  {
   "cell_type": "code",
   "execution_count": 67,
   "id": "987eb086-d483-4f29-94a3-aa418e876ccd",
   "metadata": {},
   "outputs": [
    {
     "data": {
      "text/plain": [
       "(1, 3, (5+7j), 55, 'sanjan', 6, 7, 6)"
      ]
     },
     "execution_count": 67,
     "metadata": {},
     "output_type": "execute_result"
    }
   ],
   "source": [
    "t5"
   ]
  },
  {
   "cell_type": "code",
   "execution_count": 68,
   "id": "be838f67-3168-41a3-b7b5-b2c27f79aca2",
   "metadata": {},
   "outputs": [
    {
     "ename": "AttributeError",
     "evalue": "'tuple' object has no attribute 'pop'",
     "output_type": "error",
     "traceback": [
      "\u001b[1;31m---------------------------------------------------------------------------\u001b[0m",
      "\u001b[1;31mAttributeError\u001b[0m                            Traceback (most recent call last)",
      "Cell \u001b[1;32mIn[68], line 1\u001b[0m\n\u001b[1;32m----> 1\u001b[0m t5\u001b[38;5;241m.\u001b[39mpop()\n",
      "\u001b[1;31mAttributeError\u001b[0m: 'tuple' object has no attribute 'pop'"
     ]
    }
   ],
   "source": [
    "t5.pop()"
   ]
  },
  {
   "cell_type": "code",
   "execution_count": 69,
   "id": "8a906b45-8584-4bf0-9368-004047923b1a",
   "metadata": {},
   "outputs": [
    {
     "data": {
      "text/plain": [
       "(1, 3, (5+7j), 55, 'sanjan', 6, 7, 6)"
      ]
     },
     "execution_count": 69,
     "metadata": {},
     "output_type": "execute_result"
    }
   ],
   "source": [
    "t5"
   ]
  },
  {
   "cell_type": "code",
   "execution_count": 70,
   "id": "23d5e6d3-cc5e-4957-b650-11f2d9867618",
   "metadata": {},
   "outputs": [
    {
     "ename": "TypeError",
     "evalue": "'tuple' object does not support item assignment",
     "output_type": "error",
     "traceback": [
      "\u001b[1;31m---------------------------------------------------------------------------\u001b[0m",
      "\u001b[1;31mTypeError\u001b[0m                                 Traceback (most recent call last)",
      "Cell \u001b[1;32mIn[70], line 1\u001b[0m\n\u001b[1;32m----> 1\u001b[0m t5[\u001b[38;5;241m0\u001b[39m]\u001b[38;5;241m=\u001b[39m\u001b[38;5;241m4\u001b[39m\n",
      "\u001b[1;31mTypeError\u001b[0m: 'tuple' object does not support item assignment"
     ]
    }
   ],
   "source": [
    "t5[0]=4"
   ]
  },
  {
   "cell_type": "code",
   "execution_count": 71,
   "id": "71254fe2-e6cd-48bc-998f-26b26d9c6216",
   "metadata": {},
   "outputs": [
    {
     "ename": "TypeError",
     "evalue": "'tuple' object doesn't support item deletion",
     "output_type": "error",
     "traceback": [
      "\u001b[1;31m---------------------------------------------------------------------------\u001b[0m",
      "\u001b[1;31mTypeError\u001b[0m                                 Traceback (most recent call last)",
      "Cell \u001b[1;32mIn[71], line 1\u001b[0m\n\u001b[1;32m----> 1\u001b[0m \u001b[38;5;28;01mdel\u001b[39;00m t5[\u001b[38;5;241m2\u001b[39m]\n",
      "\u001b[1;31mTypeError\u001b[0m: 'tuple' object doesn't support item deletion"
     ]
    }
   ],
   "source": [
    "del t5[2]"
   ]
  },
  {
   "cell_type": "code",
   "execution_count": 72,
   "id": "5fabe076-ec8f-47c9-824c-59a8c6192205",
   "metadata": {},
   "outputs": [
    {
     "data": {
      "text/plain": [
       "(1, 3, (5+7j), 55, 'sanjan', 6, 7, 6)"
      ]
     },
     "execution_count": 72,
     "metadata": {},
     "output_type": "execute_result"
    }
   ],
   "source": [
    "t5"
   ]
  },
  {
   "cell_type": "code",
   "execution_count": 73,
   "id": "1967f508-7be4-40d8-9bcb-40221dac8e6d",
   "metadata": {},
   "outputs": [
    {
     "data": {
      "text/plain": [
       "True"
      ]
     },
     "execution_count": 73,
     "metadata": {},
     "output_type": "execute_result"
    }
   ],
   "source": [
    "'sanjan' in t5"
   ]
  },
  {
   "cell_type": "code",
   "execution_count": 74,
   "id": "93facffb-0afd-4e34-a5e0-1793f48fd51f",
   "metadata": {},
   "outputs": [
    {
     "data": {
      "text/plain": [
       "False"
      ]
     },
     "execution_count": 74,
     "metadata": {},
     "output_type": "execute_result"
    }
   ],
   "source": [
    "8 in t5"
   ]
  },
  {
   "cell_type": "code",
   "execution_count": 75,
   "id": "5635f8e9-ee13-44c1-952f-c4aeaf9351bb",
   "metadata": {},
   "outputs": [
    {
     "data": {
      "text/plain": [
       "4"
      ]
     },
     "execution_count": 75,
     "metadata": {},
     "output_type": "execute_result"
    }
   ],
   "source": [
    "t5.index('sanjan')"
   ]
  },
  {
   "cell_type": "code",
   "execution_count": 76,
   "id": "fe9f65e1-c232-497d-8214-642d524ede1d",
   "metadata": {},
   "outputs": [
    {
     "ename": "AttributeError",
     "evalue": "'tuple' object has no attribute 'sort'",
     "output_type": "error",
     "traceback": [
      "\u001b[1;31m---------------------------------------------------------------------------\u001b[0m",
      "\u001b[1;31mAttributeError\u001b[0m                            Traceback (most recent call last)",
      "Cell \u001b[1;32mIn[76], line 1\u001b[0m\n\u001b[1;32m----> 1\u001b[0m t5\u001b[38;5;241m.\u001b[39msort()\n",
      "\u001b[1;31mAttributeError\u001b[0m: 'tuple' object has no attribute 'sort'"
     ]
    }
   ],
   "source": [
    "t5.sort()"
   ]
  },
  {
   "cell_type": "code",
   "execution_count": 77,
   "id": "c88c8b75-79f1-40d0-b420-6722121a49a2",
   "metadata": {},
   "outputs": [
    {
     "ename": "TypeError",
     "evalue": "'<' not supported between instances of 'complex' and 'int'",
     "output_type": "error",
     "traceback": [
      "\u001b[1;31m---------------------------------------------------------------------------\u001b[0m",
      "\u001b[1;31mTypeError\u001b[0m                                 Traceback (most recent call last)",
      "Cell \u001b[1;32mIn[77], line 1\u001b[0m\n\u001b[1;32m----> 1\u001b[0m \u001b[38;5;28msorted\u001b[39m(t5)\n",
      "\u001b[1;31mTypeError\u001b[0m: '<' not supported between instances of 'complex' and 'int'"
     ]
    }
   ],
   "source": [
    "sorted(t5)"
   ]
  },
  {
   "cell_type": "code",
   "execution_count": 78,
   "id": "0f2f2c4c-1fc6-446a-b54e-bc8e3fcbde89",
   "metadata": {},
   "outputs": [],
   "source": [
    "t6=(45,3,29,1,99,37)"
   ]
  },
  {
   "cell_type": "code",
   "execution_count": 79,
   "id": "4db40f18-adae-4029-be61-395af9b68de0",
   "metadata": {},
   "outputs": [
    {
     "data": {
      "text/plain": [
       "[1, 3, 29, 37, 45, 99]"
      ]
     },
     "execution_count": 79,
     "metadata": {},
     "output_type": "execute_result"
    }
   ],
   "source": [
    "sorted(t6)"
   ]
  },
  {
   "cell_type": "code",
   "execution_count": 80,
   "id": "f1bae4c5-a446-44b5-bb71-030276ae6b37",
   "metadata": {},
   "outputs": [
    {
     "data": {
      "text/plain": [
       "[99, 45, 37, 29, 3, 1]"
      ]
     },
     "execution_count": 80,
     "metadata": {},
     "output_type": "execute_result"
    }
   ],
   "source": [
    "sorted(t6,reverse=True)"
   ]
  },
  {
   "cell_type": "code",
   "execution_count": null,
   "id": "aaa11cc6-1873-4107-82bf-6cfa9a2bb7c6",
   "metadata": {},
   "outputs": [],
   "source": []
  }
 ],
 "metadata": {
  "kernelspec": {
   "display_name": "Python 3 (ipykernel)",
   "language": "python",
   "name": "python3"
  },
  "language_info": {
   "codemirror_mode": {
    "name": "ipython",
    "version": 3
   },
   "file_extension": ".py",
   "mimetype": "text/x-python",
   "name": "python",
   "nbconvert_exporter": "python",
   "pygments_lexer": "ipython3",
   "version": "3.12.7"
  }
 },
 "nbformat": 4,
 "nbformat_minor": 5
}
