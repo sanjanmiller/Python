{
 "cells": [
  {
   "cell_type": "code",
   "execution_count": 42,
   "id": "4174c989-09ee-4f34-a754-d08c7e73301c",
   "metadata": {},
   "outputs": [],
   "source": [
    "s={}"
   ]
  },
  {
   "cell_type": "code",
   "execution_count": 43,
   "id": "046fa121-755b-45e8-b010-c8da31d89045",
   "metadata": {},
   "outputs": [
    {
     "data": {
      "text/plain": [
       "{}"
      ]
     },
     "execution_count": 43,
     "metadata": {},
     "output_type": "execute_result"
    }
   ],
   "source": [
    "s"
   ]
  },
  {
   "cell_type": "code",
   "execution_count": 44,
   "id": "00503fb8-135d-43ff-adb6-11bd0f580407",
   "metadata": {},
   "outputs": [
    {
     "data": {
      "text/plain": [
       "dict"
      ]
     },
     "execution_count": 44,
     "metadata": {},
     "output_type": "execute_result"
    }
   ],
   "source": [
    "type(s)"
   ]
  },
  {
   "cell_type": "code",
   "execution_count": 45,
   "id": "09769e17-b6ba-4493-bf38-45ab446ca3d2",
   "metadata": {},
   "outputs": [],
   "source": [
    "s1=set()"
   ]
  },
  {
   "cell_type": "code",
   "execution_count": 46,
   "id": "58bd98a3-7985-4591-9746-cc6f89e3fd70",
   "metadata": {},
   "outputs": [
    {
     "data": {
      "text/plain": [
       "set()"
      ]
     },
     "execution_count": 46,
     "metadata": {},
     "output_type": "execute_result"
    }
   ],
   "source": [
    "s1"
   ]
  },
  {
   "cell_type": "code",
   "execution_count": 47,
   "id": "faaf04c3-ea3c-4a79-95b9-3d28c838563d",
   "metadata": {},
   "outputs": [
    {
     "data": {
      "text/plain": [
       "set"
      ]
     },
     "execution_count": 47,
     "metadata": {},
     "output_type": "execute_result"
    }
   ],
   "source": [
    "type(s1)"
   ]
  },
  {
   "cell_type": "code",
   "execution_count": 48,
   "id": "11d5f780-f19d-4528-a05f-aeffffe15dbd",
   "metadata": {},
   "outputs": [],
   "source": [
    "s1={10,45,1,6}"
   ]
  },
  {
   "cell_type": "code",
   "execution_count": 49,
   "id": "8c8fb124-950e-4fc1-8c02-b3e179f27497",
   "metadata": {},
   "outputs": [
    {
     "data": {
      "text/plain": [
       "{1, 6, 10, 45}"
      ]
     },
     "execution_count": 49,
     "metadata": {},
     "output_type": "execute_result"
    }
   ],
   "source": [
    "s1"
   ]
  },
  {
   "cell_type": "code",
   "execution_count": 50,
   "id": "dcd1f758-9e6e-4dfb-929a-d9f215a5b12e",
   "metadata": {},
   "outputs": [],
   "source": [
    "s1={10,45,37,4,4}"
   ]
  },
  {
   "cell_type": "code",
   "execution_count": 51,
   "id": "e3a7a5cc-449b-44b9-9e57-b1349c8ca3ed",
   "metadata": {},
   "outputs": [
    {
     "data": {
      "text/plain": [
       "{4, 10, 37, 45}"
      ]
     },
     "execution_count": 51,
     "metadata": {},
     "output_type": "execute_result"
    }
   ],
   "source": [
    "s1"
   ]
  },
  {
   "cell_type": "code",
   "execution_count": 52,
   "id": "324c3e70-3de1-4417-9d13-52dcb356a943",
   "metadata": {},
   "outputs": [],
   "source": [
    "s1={'c','b','d','a'}"
   ]
  },
  {
   "cell_type": "code",
   "execution_count": 53,
   "id": "653cc45b-a14c-4e34-a20b-6c25d15fb98f",
   "metadata": {},
   "outputs": [
    {
     "data": {
      "text/plain": [
       "{'a', 'b', 'c', 'd'}"
      ]
     },
     "execution_count": 53,
     "metadata": {},
     "output_type": "execute_result"
    }
   ],
   "source": [
    "s1"
   ]
  },
  {
   "cell_type": "code",
   "execution_count": 54,
   "id": "d0f558c5-f1a7-4f3c-b905-26a11d6796c7",
   "metadata": {},
   "outputs": [],
   "source": [
    "s2={2,5.75,'sanjan',2+5j}"
   ]
  },
  {
   "cell_type": "code",
   "execution_count": 55,
   "id": "67ba763b-d6e5-4e28-bcaa-0fb44ca9374c",
   "metadata": {},
   "outputs": [
    {
     "data": {
      "text/plain": [
       "{(2+5j), 2, 5.75, 'sanjan'}"
      ]
     },
     "execution_count": 55,
     "metadata": {},
     "output_type": "execute_result"
    }
   ],
   "source": [
    "s2"
   ]
  },
  {
   "cell_type": "code",
   "execution_count": 56,
   "id": "6cfcde12-1cd5-412a-96a0-7260dc9b837f",
   "metadata": {},
   "outputs": [
    {
     "ename": "AttributeError",
     "evalue": "'set' object has no attribute 'index'",
     "output_type": "error",
     "traceback": [
      "\u001b[1;31m---------------------------------------------------------------------------\u001b[0m",
      "\u001b[1;31mAttributeError\u001b[0m                            Traceback (most recent call last)",
      "Cell \u001b[1;32mIn[56], line 1\u001b[0m\n\u001b[1;32m----> 1\u001b[0m s2\u001b[38;5;241m.\u001b[39mindex(\u001b[38;5;124m'\u001b[39m\u001b[38;5;124msanjan\u001b[39m\u001b[38;5;124m'\u001b[39m)\n",
      "\u001b[1;31mAttributeError\u001b[0m: 'set' object has no attribute 'index'"
     ]
    }
   ],
   "source": [
    "s2.index('sanjan')"
   ]
  },
  {
   "cell_type": "code",
   "execution_count": 57,
   "id": "40970be7-8bae-4639-9763-41103acf0167",
   "metadata": {},
   "outputs": [
    {
     "data": {
      "text/plain": [
       "{(2+5j), 2, 5.75, 'sanjan'}"
      ]
     },
     "execution_count": 57,
     "metadata": {},
     "output_type": "execute_result"
    }
   ],
   "source": [
    "s2"
   ]
  },
  {
   "cell_type": "code",
   "execution_count": 58,
   "id": "8ca7373d-6350-4d9e-904b-b8f9a442acde",
   "metadata": {},
   "outputs": [
    {
     "data": {
      "text/plain": [
       "4"
      ]
     },
     "execution_count": 58,
     "metadata": {},
     "output_type": "execute_result"
    }
   ],
   "source": [
    "len(s2)"
   ]
  },
  {
   "cell_type": "code",
   "execution_count": 59,
   "id": "483534c9-5d43-4d99-b73d-547dc288302f",
   "metadata": {},
   "outputs": [
    {
     "data": {
      "text/plain": [
       "(2+5j)"
      ]
     },
     "execution_count": 59,
     "metadata": {},
     "output_type": "execute_result"
    }
   ],
   "source": [
    "s2.pop()"
   ]
  },
  {
   "cell_type": "code",
   "execution_count": 60,
   "id": "77aa288e-afa0-4ffb-b579-39d1b2bf0da3",
   "metadata": {},
   "outputs": [
    {
     "data": {
      "text/plain": [
       "{2, 5.75, 'sanjan'}"
      ]
     },
     "execution_count": 60,
     "metadata": {},
     "output_type": "execute_result"
    }
   ],
   "source": [
    "s2"
   ]
  },
  {
   "cell_type": "code",
   "execution_count": 62,
   "id": "d37060d3-6a62-4c85-97c8-ec3556962594",
   "metadata": {},
   "outputs": [],
   "source": [
    "s2.remove(5.75)"
   ]
  },
  {
   "cell_type": "code",
   "execution_count": 63,
   "id": "625a8fae-0e76-4dbb-8c4f-5a664b06935b",
   "metadata": {},
   "outputs": [
    {
     "data": {
      "text/plain": [
       "{2, 'sanjan'}"
      ]
     },
     "execution_count": 63,
     "metadata": {},
     "output_type": "execute_result"
    }
   ],
   "source": [
    "s2"
   ]
  },
  {
   "cell_type": "code",
   "execution_count": 64,
   "id": "0cbf8d0a-f67d-4c20-9917-0165387ee38e",
   "metadata": {},
   "outputs": [],
   "source": [
    "s2.add(18)"
   ]
  },
  {
   "cell_type": "code",
   "execution_count": 65,
   "id": "b20c8cf4-e8e6-421a-bf09-21e328382e36",
   "metadata": {},
   "outputs": [
    {
     "data": {
      "text/plain": [
       "{18, 2, 'sanjan'}"
      ]
     },
     "execution_count": 65,
     "metadata": {},
     "output_type": "execute_result"
    }
   ],
   "source": [
    "s2"
   ]
  },
  {
   "cell_type": "code",
   "execution_count": 66,
   "id": "cb40864f-61b4-423c-a755-4d1e9a06d438",
   "metadata": {},
   "outputs": [
    {
     "ename": "AttributeError",
     "evalue": "'set' object has no attribute 'append'",
     "output_type": "error",
     "traceback": [
      "\u001b[1;31m---------------------------------------------------------------------------\u001b[0m",
      "\u001b[1;31mAttributeError\u001b[0m                            Traceback (most recent call last)",
      "Cell \u001b[1;32mIn[66], line 1\u001b[0m\n\u001b[1;32m----> 1\u001b[0m s2\u001b[38;5;241m.\u001b[39mappend(\u001b[38;5;241m10\u001b[39m)\n",
      "\u001b[1;31mAttributeError\u001b[0m: 'set' object has no attribute 'append'"
     ]
    }
   ],
   "source": [
    "s2.append(10)"
   ]
  },
  {
   "cell_type": "code",
   "execution_count": 67,
   "id": "065114f4-c5f6-4960-9d20-c8dac2ef6a14",
   "metadata": {},
   "outputs": [
    {
     "data": {
      "text/plain": [
       "{18, 2, 'sanjan'}"
      ]
     },
     "execution_count": 67,
     "metadata": {},
     "output_type": "execute_result"
    }
   ],
   "source": [
    "s2"
   ]
  },
  {
   "cell_type": "code",
   "execution_count": 68,
   "id": "8c39daa5-0dc3-49f3-9fb7-1496fc67697f",
   "metadata": {},
   "outputs": [],
   "source": [
    "s2.clear()"
   ]
  },
  {
   "cell_type": "code",
   "execution_count": 69,
   "id": "2a91691b-5a35-4d45-a125-665caefa10fd",
   "metadata": {},
   "outputs": [
    {
     "data": {
      "text/plain": [
       "set()"
      ]
     },
     "execution_count": 69,
     "metadata": {},
     "output_type": "execute_result"
    }
   ],
   "source": [
    "s2"
   ]
  },
  {
   "cell_type": "code",
   "execution_count": 70,
   "id": "bbf95995-335b-4499-b72b-d28d7ce5d3c5",
   "metadata": {},
   "outputs": [
    {
     "data": {
      "text/plain": [
       "2466038949568"
      ]
     },
     "execution_count": 70,
     "metadata": {},
     "output_type": "execute_result"
    }
   ],
   "source": [
    "id(s2)"
   ]
  },
  {
   "cell_type": "code",
   "execution_count": 71,
   "id": "ec57e25c-a08c-461f-aaa5-0f7589cb562a",
   "metadata": {},
   "outputs": [
    {
     "data": {
      "text/plain": [
       "0"
      ]
     },
     "execution_count": 71,
     "metadata": {},
     "output_type": "execute_result"
    }
   ],
   "source": [
    "len(s2)"
   ]
  },
  {
   "cell_type": "code",
   "execution_count": 72,
   "id": "a77853f6-a46d-45e2-a11a-b6d5abdf4007",
   "metadata": {},
   "outputs": [],
   "source": [
    "del s2"
   ]
  },
  {
   "cell_type": "code",
   "execution_count": 73,
   "id": "5d66e4df-baf6-47ec-a789-9003b017f229",
   "metadata": {},
   "outputs": [
    {
     "ename": "NameError",
     "evalue": "name 's2' is not defined",
     "output_type": "error",
     "traceback": [
      "\u001b[1;31m---------------------------------------------------------------------------\u001b[0m",
      "\u001b[1;31mNameError\u001b[0m                                 Traceback (most recent call last)",
      "Cell \u001b[1;32mIn[73], line 1\u001b[0m\n\u001b[1;32m----> 1\u001b[0m s2\n",
      "\u001b[1;31mNameError\u001b[0m: name 's2' is not defined"
     ]
    }
   ],
   "source": [
    "s2"
   ]
  },
  {
   "cell_type": "code",
   "execution_count": 1,
   "id": "1fc6f317-3ff4-4b2f-8cdd-d48175a7cd38",
   "metadata": {},
   "outputs": [],
   "source": [
    "a={1,2,3,4,5,6}\n",
    "b={4,5,6,7,8}\n",
    "c={8,9,10}"
   ]
  },
  {
   "cell_type": "code",
   "execution_count": 2,
   "id": "43f6a346-2b7f-4757-b22e-ff4c95c26f07",
   "metadata": {},
   "outputs": [
    {
     "data": {
      "text/plain": [
       "{1, 2, 3, 4, 5, 6, 7, 8}"
      ]
     },
     "execution_count": 2,
     "metadata": {},
     "output_type": "execute_result"
    }
   ],
   "source": [
    "a|b"
   ]
  },
  {
   "cell_type": "code",
   "execution_count": 3,
   "id": "c1ced1d9-da1b-4c3d-b5af-ad7bf79a5634",
   "metadata": {},
   "outputs": [
    {
     "data": {
      "text/plain": [
       "{4, 5, 6, 7, 8, 9, 10}"
      ]
     },
     "execution_count": 3,
     "metadata": {},
     "output_type": "execute_result"
    }
   ],
   "source": [
    "b|c"
   ]
  },
  {
   "cell_type": "code",
   "execution_count": 4,
   "id": "17d914b3-c9fa-4d56-9aa1-a87c1d476f1d",
   "metadata": {},
   "outputs": [
    {
     "data": {
      "text/plain": [
       "{1, 2, 3, 4, 5, 6, 8, 9, 10}"
      ]
     },
     "execution_count": 4,
     "metadata": {},
     "output_type": "execute_result"
    }
   ],
   "source": [
    "a.union(c)"
   ]
  },
  {
   "cell_type": "code",
   "execution_count": 5,
   "id": "6e4f4e61-60ea-4094-bb08-782dc0910571",
   "metadata": {},
   "outputs": [
    {
     "data": {
      "text/plain": [
       "{1, 2, 3, 4, 5, 6, 7, 8, 9, 10}"
      ]
     },
     "execution_count": 5,
     "metadata": {},
     "output_type": "execute_result"
    }
   ],
   "source": [
    "b.union(a,c)"
   ]
  },
  {
   "cell_type": "code",
   "execution_count": 6,
   "id": "30bef0ec-f458-4aea-b52c-4332df589d9c",
   "metadata": {},
   "outputs": [],
   "source": [
    "a1={'a','b'}\n",
    "b1={'c','d'}"
   ]
  },
  {
   "cell_type": "code",
   "execution_count": 7,
   "id": "0d44b974-4475-4a2f-a0cc-c15ae7afb61a",
   "metadata": {},
   "outputs": [
    {
     "data": {
      "text/plain": [
       "{'a', 'b', 'c', 'd'}"
      ]
     },
     "execution_count": 7,
     "metadata": {},
     "output_type": "execute_result"
    }
   ],
   "source": [
    "a1|b1"
   ]
  },
  {
   "cell_type": "code",
   "execution_count": 9,
   "id": "d0ec313d-123e-4a2c-94bc-ffa40a354cf1",
   "metadata": {},
   "outputs": [
    {
     "name": "stdout",
     "output_type": "stream",
     "text": [
      "{1, 2, 3, 4, 5, 6}\n",
      "{4, 5, 6, 7, 8}\n",
      "{8, 9, 10}\n"
     ]
    }
   ],
   "source": [
    "print(a)\n",
    "print(b)\n",
    "print(c)"
   ]
  },
  {
   "cell_type": "code",
   "execution_count": 10,
   "id": "9b52571d-824f-4d85-81f8-4b2c55434b2e",
   "metadata": {},
   "outputs": [],
   "source": [
    "c.update(b)"
   ]
  },
  {
   "cell_type": "code",
   "execution_count": 11,
   "id": "156989e8-7833-4a6a-bfc5-0590bc64637f",
   "metadata": {},
   "outputs": [
    {
     "data": {
      "text/plain": [
       "{4, 5, 6, 7, 8, 9, 10}"
      ]
     },
     "execution_count": 11,
     "metadata": {},
     "output_type": "execute_result"
    }
   ],
   "source": [
    "c"
   ]
  },
  {
   "cell_type": "code",
   "execution_count": 12,
   "id": "27da9128-eee1-445f-8355-8f796f026b3f",
   "metadata": {},
   "outputs": [
    {
     "data": {
      "text/plain": [
       "7"
      ]
     },
     "execution_count": 12,
     "metadata": {},
     "output_type": "execute_result"
    }
   ],
   "source": [
    "len(c)"
   ]
  },
  {
   "cell_type": "code",
   "execution_count": 13,
   "id": "070aca85-34e5-42be-89d4-a21228de3c81",
   "metadata": {},
   "outputs": [
    {
     "name": "stdout",
     "output_type": "stream",
     "text": [
      "{1, 2, 3, 4, 5, 6}\n",
      "{4, 5, 6, 7, 8}\n",
      "{4, 5, 6, 7, 8, 9, 10}\n"
     ]
    }
   ],
   "source": [
    "print(a)\n",
    "print(b)\n",
    "print(c)"
   ]
  },
  {
   "cell_type": "code",
   "execution_count": 14,
   "id": "5de9eec4-47c1-47c3-9e2d-a42c51506625",
   "metadata": {},
   "outputs": [
    {
     "data": {
      "text/plain": [
       "{4, 5, 6}"
      ]
     },
     "execution_count": 14,
     "metadata": {},
     "output_type": "execute_result"
    }
   ],
   "source": [
    "a.intersection(b)"
   ]
  },
  {
   "cell_type": "code",
   "execution_count": 15,
   "id": "5b23de16-9665-4ac0-ade8-f39817884ca7",
   "metadata": {},
   "outputs": [
    {
     "data": {
      "text/plain": [
       "{4, 5, 6, 7, 8}"
      ]
     },
     "execution_count": 15,
     "metadata": {},
     "output_type": "execute_result"
    }
   ],
   "source": [
    "b.intersection(c)"
   ]
  },
  {
   "cell_type": "code",
   "execution_count": 16,
   "id": "66009955-6aaf-41d6-b8d6-822740103cd7",
   "metadata": {},
   "outputs": [],
   "source": [
    "a.intersection_update(b)"
   ]
  },
  {
   "cell_type": "code",
   "execution_count": 17,
   "id": "4ca3d63c-077b-4d5a-92d7-750c9ea67a29",
   "metadata": {},
   "outputs": [
    {
     "data": {
      "text/plain": [
       "{4, 5, 6}"
      ]
     },
     "execution_count": 17,
     "metadata": {},
     "output_type": "execute_result"
    }
   ],
   "source": [
    "a"
   ]
  },
  {
   "cell_type": "code",
   "execution_count": 18,
   "id": "7b62e82f-7749-4f77-8982-5a07d6730a42",
   "metadata": {},
   "outputs": [],
   "source": [
    "a2={1,2,3,4,5}\n",
    "b2={4,5,6,7,8}\n",
    "c2={8,9,10}"
   ]
  },
  {
   "cell_type": "code",
   "execution_count": 19,
   "id": "46734bb5-e97a-4734-bf61-741655ea9fd9",
   "metadata": {},
   "outputs": [
    {
     "data": {
      "text/plain": [
       "{1, 2, 3}"
      ]
     },
     "execution_count": 19,
     "metadata": {},
     "output_type": "execute_result"
    }
   ],
   "source": [
    "a2-b2"
   ]
  },
  {
   "cell_type": "code",
   "execution_count": 20,
   "id": "2d005737-8434-410d-bbff-e31ca68278d3",
   "metadata": {},
   "outputs": [
    {
     "data": {
      "text/plain": [
       "{1, 2, 3}"
      ]
     },
     "execution_count": 20,
     "metadata": {},
     "output_type": "execute_result"
    }
   ],
   "source": [
    "a2.difference(b2)"
   ]
  },
  {
   "cell_type": "code",
   "execution_count": 21,
   "id": "3e5ea0c8-ab81-474c-896b-1ff3a902af21",
   "metadata": {},
   "outputs": [
    {
     "data": {
      "text/plain": [
       "{4, 5, 6, 7}"
      ]
     },
     "execution_count": 21,
     "metadata": {},
     "output_type": "execute_result"
    }
   ],
   "source": [
    "b2.difference(c2)"
   ]
  },
  {
   "cell_type": "code",
   "execution_count": 22,
   "id": "ecec5770-db30-4477-a878-18df658aece9",
   "metadata": {},
   "outputs": [],
   "source": [
    "b2.difference_update(c2)"
   ]
  },
  {
   "cell_type": "code",
   "execution_count": 23,
   "id": "b0063b5f-c82b-486b-ad8d-10f3211ad484",
   "metadata": {},
   "outputs": [
    {
     "data": {
      "text/plain": [
       "{4, 5, 6, 7}"
      ]
     },
     "execution_count": 23,
     "metadata": {},
     "output_type": "execute_result"
    }
   ],
   "source": [
    "b2"
   ]
  },
  {
   "cell_type": "code",
   "execution_count": 24,
   "id": "1c8eedeb-671c-4f35-a31d-3df4903da7df",
   "metadata": {},
   "outputs": [],
   "source": [
    "b2.add(8)"
   ]
  },
  {
   "cell_type": "code",
   "execution_count": 25,
   "id": "9045bfd4-35ef-4cd5-bdc0-2ef999335446",
   "metadata": {},
   "outputs": [
    {
     "data": {
      "text/plain": [
       "{4, 5, 6, 7, 8}"
      ]
     },
     "execution_count": 25,
     "metadata": {},
     "output_type": "execute_result"
    }
   ],
   "source": [
    "b2"
   ]
  },
  {
   "cell_type": "code",
   "execution_count": 26,
   "id": "e47cdee8-d083-4fb9-b890-7db8cae7b469",
   "metadata": {},
   "outputs": [
    {
     "name": "stdout",
     "output_type": "stream",
     "text": [
      "{1, 2, 3, 4, 5}\n",
      "{4, 5, 6, 7, 8}\n",
      "{8, 9, 10}\n"
     ]
    }
   ],
   "source": [
    "print(a2)\n",
    "print(b2)\n",
    "print(c2)"
   ]
  },
  {
   "cell_type": "code",
   "execution_count": 27,
   "id": "9995c092-8a1c-4546-88e6-cfb40c8a1cfc",
   "metadata": {},
   "outputs": [
    {
     "data": {
      "text/plain": [
       "{1, 2, 3, 6, 7, 8}"
      ]
     },
     "execution_count": 27,
     "metadata": {},
     "output_type": "execute_result"
    }
   ],
   "source": [
    "a2.symmetric_difference(b2)"
   ]
  },
  {
   "cell_type": "code",
   "execution_count": 28,
   "id": "56af6552-5609-4e9f-89f5-21cf06aff078",
   "metadata": {},
   "outputs": [
    {
     "data": {
      "text/plain": [
       "{1, 2, 3}"
      ]
     },
     "execution_count": 28,
     "metadata": {},
     "output_type": "execute_result"
    }
   ],
   "source": [
    "a2.difference(b2)"
   ]
  },
  {
   "cell_type": "code",
   "execution_count": 29,
   "id": "a71d9a5f-8604-44f0-89ca-10d3cff082ef",
   "metadata": {},
   "outputs": [],
   "source": [
    "a3={1,2,3,4,5,6,7,8,9}\n",
    "b3={3,4,5,6,7,8}\n",
    "c3={10,20,30,40}"
   ]
  },
  {
   "cell_type": "code",
   "execution_count": 30,
   "id": "ae7070ce-994c-45e6-8a99-a525651867cd",
   "metadata": {},
   "outputs": [
    {
     "data": {
      "text/plain": [
       "True"
      ]
     },
     "execution_count": 30,
     "metadata": {},
     "output_type": "execute_result"
    }
   ],
   "source": [
    "b3.issubset(a3)"
   ]
  },
  {
   "cell_type": "code",
   "execution_count": 31,
   "id": "bf3c26cb-8024-4165-a409-888f2f14eb0f",
   "metadata": {},
   "outputs": [
    {
     "data": {
      "text/plain": [
       "False"
      ]
     },
     "execution_count": 31,
     "metadata": {},
     "output_type": "execute_result"
    }
   ],
   "source": [
    "a3.issubset(b3)"
   ]
  },
  {
   "cell_type": "code",
   "execution_count": 32,
   "id": "9cfbd9bb-d7f7-4d50-8517-2ac33f1553ea",
   "metadata": {},
   "outputs": [
    {
     "data": {
      "text/plain": [
       "True"
      ]
     },
     "execution_count": 32,
     "metadata": {},
     "output_type": "execute_result"
    }
   ],
   "source": [
    "c3.isdisjoint(a3)"
   ]
  },
  {
   "cell_type": "code",
   "execution_count": 33,
   "id": "f3434887-06ab-44e7-9e5e-e2c80140f8c6",
   "metadata": {},
   "outputs": [
    {
     "data": {
      "text/plain": [
       "False"
      ]
     },
     "execution_count": 33,
     "metadata": {},
     "output_type": "execute_result"
    }
   ],
   "source": [
    "b3.isdisjoint(a3)"
   ]
  },
  {
   "cell_type": "code",
   "execution_count": 34,
   "id": "af1f9469-44b6-4870-bd4d-ceee6404fee8",
   "metadata": {},
   "outputs": [
    {
     "data": {
      "text/plain": [
       "False"
      ]
     },
     "execution_count": 34,
     "metadata": {},
     "output_type": "execute_result"
    }
   ],
   "source": [
    "c3.issuperset(a3)"
   ]
  },
  {
   "cell_type": "code",
   "execution_count": 35,
   "id": "e62f7adf-c0d3-4ad4-9ad5-1fe2f0d72565",
   "metadata": {},
   "outputs": [],
   "source": [
    "A={1,2,3,4,5,6,7,8,9}"
   ]
  },
  {
   "cell_type": "code",
   "execution_count": 36,
   "id": "922cba42-4118-42f6-b555-dc93f2439c7d",
   "metadata": {},
   "outputs": [
    {
     "data": {
      "text/plain": [
       "[(0, 1), (1, 2), (2, 3), (3, 4), (4, 5), (5, 6), (6, 7), (7, 8), (8, 9)]"
      ]
     },
     "execution_count": 36,
     "metadata": {},
     "output_type": "execute_result"
    }
   ],
   "source": [
    "list(enumerate(A))"
   ]
  },
  {
   "cell_type": "code",
   "execution_count": 37,
   "id": "d1b00b10-09fa-46f0-adbd-743c980aab52",
   "metadata": {},
   "outputs": [],
   "source": [
    "myset = {'one', 'two', 'three', 'four', 'five', 'six', 'seven', 'eight'}"
   ]
  },
  {
   "cell_type": "code",
   "execution_count": 38,
   "id": "eaba0a1e-ce21-43a6-a620-2b09b5bf418f",
   "metadata": {},
   "outputs": [],
   "source": [
    "myset.add('NINE')"
   ]
  },
  {
   "cell_type": "code",
   "execution_count": 39,
   "id": "4f26cc70-e54a-4325-9592-0aa5234c0956",
   "metadata": {},
   "outputs": [
    {
     "data": {
      "text/plain": [
       "{'NINE', 'eight', 'five', 'four', 'one', 'seven', 'six', 'three', 'two'}"
      ]
     },
     "execution_count": 39,
     "metadata": {},
     "output_type": "execute_result"
    }
   ],
   "source": [
    "myset"
   ]
  },
  {
   "cell_type": "code",
   "execution_count": 41,
   "id": "1984e3dd-7290-4e49-bba3-8068963035de",
   "metadata": {},
   "outputs": [
    {
     "data": {
      "text/plain": [
       "{'ELEVEN',\n",
       " 'NINE',\n",
       " 'TEN',\n",
       " 'TWELVE',\n",
       " 'eight',\n",
       " 'five',\n",
       " 'four',\n",
       " 'one',\n",
       " 'seven',\n",
       " 'six',\n",
       " 'three',\n",
       " 'two'}"
      ]
     },
     "execution_count": 41,
     "metadata": {},
     "output_type": "execute_result"
    }
   ],
   "source": [
    "myset.update(['TEN' , 'ELEVEN' , 'TWELVE']) \n",
    "myset"
   ]
  },
  {
   "cell_type": "code",
   "execution_count": 42,
   "id": "aa86f555-30f8-4c62-9d79-f00389255de2",
   "metadata": {},
   "outputs": [
    {
     "data": {
      "text/plain": [
       "{'ELEVEN',\n",
       " 'TEN',\n",
       " 'TWELVE',\n",
       " 'eight',\n",
       " 'five',\n",
       " 'four',\n",
       " 'one',\n",
       " 'seven',\n",
       " 'six',\n",
       " 'three',\n",
       " 'two'}"
      ]
     },
     "execution_count": 42,
     "metadata": {},
     "output_type": "execute_result"
    }
   ],
   "source": [
    "myset.remove('NINE') \n",
    "myset"
   ]
  },
  {
   "cell_type": "code",
   "execution_count": 43,
   "id": "a5981cca-f438-4284-b99e-4d29ad16c7a2",
   "metadata": {},
   "outputs": [],
   "source": [
    "myset.discard('seven')"
   ]
  },
  {
   "cell_type": "code",
   "execution_count": 44,
   "id": "de0bab67-6c18-40b7-b5a6-db7f6c39eb3b",
   "metadata": {},
   "outputs": [
    {
     "data": {
      "text/plain": [
       "{'ELEVEN',\n",
       " 'TEN',\n",
       " 'TWELVE',\n",
       " 'eight',\n",
       " 'five',\n",
       " 'four',\n",
       " 'one',\n",
       " 'six',\n",
       " 'three',\n",
       " 'two'}"
      ]
     },
     "execution_count": 44,
     "metadata": {},
     "output_type": "execute_result"
    }
   ],
   "source": [
    "myset"
   ]
  },
  {
   "cell_type": "code",
   "execution_count": 45,
   "id": "bd8bc24c-d079-4b8b-a0f4-e8fc4747822d",
   "metadata": {},
   "outputs": [
    {
     "data": {
      "text/plain": [
       "{1, 2, 3, 4, 5, 6, 7, 8, 9}"
      ]
     },
     "execution_count": 45,
     "metadata": {},
     "output_type": "execute_result"
    }
   ],
   "source": [
    "A"
   ]
  },
  {
   "cell_type": "code",
   "execution_count": 46,
   "id": "cc36bdfc-6bba-4079-a051-740fa56c6c95",
   "metadata": {},
   "outputs": [
    {
     "data": {
      "text/plain": [
       "45"
      ]
     },
     "execution_count": 46,
     "metadata": {},
     "output_type": "execute_result"
    }
   ],
   "source": [
    "sum(A)"
   ]
  },
  {
   "cell_type": "code",
   "execution_count": 47,
   "id": "7939c345-710d-48c0-9bbd-67527156457e",
   "metadata": {},
   "outputs": [
    {
     "data": {
      "text/plain": [
       "9"
      ]
     },
     "execution_count": 47,
     "metadata": {},
     "output_type": "execute_result"
    }
   ],
   "source": [
    "max(A)"
   ]
  },
  {
   "cell_type": "code",
   "execution_count": 49,
   "id": "ae361c05-637f-46a2-8f53-8bdc8735df66",
   "metadata": {},
   "outputs": [
    {
     "data": {
      "text/plain": [
       "[9, 8, 7, 6, 5, 4, 3, 2, 1]"
      ]
     },
     "execution_count": 49,
     "metadata": {},
     "output_type": "execute_result"
    }
   ],
   "source": [
    "B= sorted(A,reverse=True)\n",
    "B"
   ]
  },
  {
   "cell_type": "code",
   "execution_count": 50,
   "id": "d73a500f-5d8f-4979-988e-7c582cd1172f",
   "metadata": {},
   "outputs": [
    {
     "data": {
      "text/plain": [
       "[1, 2, 3, 4, 5, 6, 7, 8, 9]"
      ]
     },
     "execution_count": 50,
     "metadata": {},
     "output_type": "execute_result"
    }
   ],
   "source": [
    "sorted(B)"
   ]
  },
  {
   "cell_type": "code",
   "execution_count": null,
   "id": "61e40451-c51c-47cd-92b0-577239b3c31c",
   "metadata": {},
   "outputs": [],
   "source": []
  }
 ],
 "metadata": {
  "kernelspec": {
   "display_name": "Python 3 (ipykernel)",
   "language": "python",
   "name": "python3"
  },
  "language_info": {
   "codemirror_mode": {
    "name": "ipython",
    "version": 3
   },
   "file_extension": ".py",
   "mimetype": "text/x-python",
   "name": "python",
   "nbconvert_exporter": "python",
   "pygments_lexer": "ipython3",
   "version": "3.12.7"
  }
 },
 "nbformat": 4,
 "nbformat_minor": 5
}
