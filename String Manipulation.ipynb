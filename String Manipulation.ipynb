{
 "cells": [
  {
   "cell_type": "code",
   "execution_count": 19,
   "id": "d2b585d8-5a44-48d3-804a-d7d419e657d5",
   "metadata": {},
   "outputs": [],
   "source": [
    "msg='Hello World!'"
   ]
  },
  {
   "cell_type": "code",
   "execution_count": 20,
   "id": "0ff37e1e-35ef-444a-8e5c-25f13eb88d37",
   "metadata": {},
   "outputs": [
    {
     "data": {
      "text/plain": [
       "'Hello World!'"
      ]
     },
     "execution_count": 20,
     "metadata": {},
     "output_type": "execute_result"
    }
   ],
   "source": [
    "msg"
   ]
  },
  {
   "cell_type": "code",
   "execution_count": 21,
   "id": "57294ba4-5a4b-4b05-9545-2ff60a2c0b97",
   "metadata": {},
   "outputs": [
    {
     "data": {
      "text/plain": [
       "12"
      ]
     },
     "execution_count": 21,
     "metadata": {},
     "output_type": "execute_result"
    }
   ],
   "source": [
    "len(msg)"
   ]
  },
  {
   "cell_type": "code",
   "execution_count": 22,
   "id": "de9f0247-023f-4a91-a3d4-fba8e35c94de",
   "metadata": {},
   "outputs": [
    {
     "data": {
      "text/plain": [
       "'H'"
      ]
     },
     "execution_count": 22,
     "metadata": {},
     "output_type": "execute_result"
    }
   ],
   "source": [
    "msg[0]"
   ]
  },
  {
   "cell_type": "code",
   "execution_count": 23,
   "id": "0744e239-4fc0-4ea0-a813-e171d2929c8b",
   "metadata": {},
   "outputs": [
    {
     "data": {
      "text/plain": [
       "'!'"
      ]
     },
     "execution_count": 23,
     "metadata": {},
     "output_type": "execute_result"
    }
   ],
   "source": [
    "msg[-1]"
   ]
  },
  {
   "cell_type": "code",
   "execution_count": 24,
   "id": "16aa7f4e-ccfc-4f90-a986-4dfefd1bec94",
   "metadata": {},
   "outputs": [
    {
     "data": {
      "text/plain": [
       "'Hello World!'"
      ]
     },
     "execution_count": 24,
     "metadata": {},
     "output_type": "execute_result"
    }
   ],
   "source": [
    "msg[:]"
   ]
  },
  {
   "cell_type": "code",
   "execution_count": 25,
   "id": "c6d4e088-b515-4257-a1af-fecd917041f0",
   "metadata": {},
   "outputs": [
    {
     "data": {
      "text/plain": [
       "'!dlroW olleH'"
      ]
     },
     "execution_count": 25,
     "metadata": {},
     "output_type": "execute_result"
    }
   ],
   "source": [
    "msg[::-1]"
   ]
  },
  {
   "cell_type": "code",
   "execution_count": 26,
   "id": "63be94ee-34a5-4627-b05d-ea746c0ba5fe",
   "metadata": {},
   "outputs": [
    {
     "data": {
      "text/plain": [
       "'HloWrd'"
      ]
     },
     "execution_count": 26,
     "metadata": {},
     "output_type": "execute_result"
    }
   ],
   "source": [
    "msg[0:12:2]"
   ]
  },
  {
   "cell_type": "code",
   "execution_count": 27,
   "id": "2a09e353-ddb2-4a66-ab92-57179b791afd",
   "metadata": {},
   "outputs": [
    {
     "data": {
      "text/plain": [
       "'rld'"
      ]
     },
     "execution_count": 27,
     "metadata": {},
     "output_type": "execute_result"
    }
   ],
   "source": [
    "msg[-4:-1]"
   ]
  },
  {
   "cell_type": "code",
   "execution_count": 28,
   "id": "8536020b-0254-4647-bdb2-36dcc68ea7b9",
   "metadata": {},
   "outputs": [
    {
     "data": {
      "text/plain": [
       "'Hello world!'"
      ]
     },
     "execution_count": 28,
     "metadata": {},
     "output_type": "execute_result"
    }
   ],
   "source": [
    "msg.capitalize()"
   ]
  },
  {
   "cell_type": "code",
   "execution_count": 29,
   "id": "7d4e050a-47a1-4206-9d3a-49a0373171c8",
   "metadata": {},
   "outputs": [
    {
     "data": {
      "text/plain": [
       "False"
      ]
     },
     "execution_count": 29,
     "metadata": {},
     "output_type": "execute_result"
    }
   ],
   "source": [
    "msg.isupper()"
   ]
  },
  {
   "cell_type": "code",
   "execution_count": 30,
   "id": "5e56d976-9b5a-47b6-952f-97f7a54f272f",
   "metadata": {},
   "outputs": [
    {
     "data": {
      "text/plain": [
       "True"
      ]
     },
     "execution_count": 30,
     "metadata": {},
     "output_type": "execute_result"
    }
   ],
   "source": [
    "'World' in msg"
   ]
  },
  {
   "cell_type": "code",
   "execution_count": 32,
   "id": "f5f23dfd-b1ff-48a2-b92e-0b50b612ac72",
   "metadata": {},
   "outputs": [
    {
     "data": {
      "text/plain": [
       "True"
      ]
     },
     "execution_count": 32,
     "metadata": {},
     "output_type": "execute_result"
    }
   ],
   "source": [
    "'Hello' in msg"
   ]
  },
  {
   "cell_type": "code",
   "execution_count": 33,
   "id": "282b2bc2-6a49-4380-a359-5e908675fc78",
   "metadata": {},
   "outputs": [
    {
     "data": {
      "text/plain": [
       "True"
      ]
     },
     "execution_count": 33,
     "metadata": {},
     "output_type": "execute_result"
    }
   ],
   "source": [
    "' ' in msg"
   ]
  },
  {
   "cell_type": "code",
   "execution_count": 34,
   "id": "6ff3ca43-7a4e-4d78-ae87-9a6e32e20e5c",
   "metadata": {},
   "outputs": [
    {
     "data": {
      "text/plain": [
       "'hello world!'"
      ]
     },
     "execution_count": 34,
     "metadata": {},
     "output_type": "execute_result"
    }
   ],
   "source": [
    "msg.lower()"
   ]
  },
  {
   "cell_type": "code",
   "execution_count": 35,
   "id": "45a3f9ec-fa49-41e1-a8ac-81c1f3a246a4",
   "metadata": {},
   "outputs": [
    {
     "data": {
      "text/plain": [
       "True"
      ]
     },
     "execution_count": 35,
     "metadata": {},
     "output_type": "execute_result"
    }
   ],
   "source": [
    "msg.startswith('Hello')"
   ]
  },
  {
   "cell_type": "code",
   "execution_count": 36,
   "id": "6fc6dd68-9492-439a-ad3b-efd67cea2329",
   "metadata": {},
   "outputs": [
    {
     "data": {
      "text/plain": [
       "True"
      ]
     },
     "execution_count": 36,
     "metadata": {},
     "output_type": "execute_result"
    }
   ],
   "source": [
    "msg.endswith('!')"
   ]
  },
  {
   "cell_type": "code",
   "execution_count": 37,
   "id": "91dbfbe1-2e2c-4207-bcfe-6e9a896ff3f8",
   "metadata": {},
   "outputs": [
    {
     "data": {
      "text/plain": [
       "False"
      ]
     },
     "execution_count": 37,
     "metadata": {},
     "output_type": "execute_result"
    }
   ],
   "source": [
    "msg.endswith('world!')"
   ]
  },
  {
   "cell_type": "code",
   "execution_count": 38,
   "id": "1dc48f61-862e-49f5-875d-05594ab056a8",
   "metadata": {},
   "outputs": [
    {
     "data": {
      "text/plain": [
       "True"
      ]
     },
     "execution_count": 38,
     "metadata": {},
     "output_type": "execute_result"
    }
   ],
   "source": [
    "msg.endswith('World!')"
   ]
  },
  {
   "cell_type": "code",
   "execution_count": 40,
   "id": "c3852464-a69d-4bc1-988d-c2590da6deaf",
   "metadata": {},
   "outputs": [
    {
     "data": {
      "text/plain": [
       "'HelloWorld'"
      ]
     },
     "execution_count": 40,
     "metadata": {},
     "output_type": "execute_result"
    }
   ],
   "source": [
    "''.join(['Hello','World'])"
   ]
  },
  {
   "cell_type": "code",
   "execution_count": 41,
   "id": "3972c25d-c2f9-49f5-bed1-a42c3a382c11",
   "metadata": {},
   "outputs": [
    {
     "data": {
      "text/plain": [
       "'Hello World'"
      ]
     },
     "execution_count": 41,
     "metadata": {},
     "output_type": "execute_result"
    }
   ],
   "source": [
    "' '.join(['Hello','World'])"
   ]
  },
  {
   "cell_type": "code",
   "execution_count": 42,
   "id": "117a1c6b-b676-4474-9000-062dd9fbb6b6",
   "metadata": {},
   "outputs": [
    {
     "data": {
      "text/plain": [
       "['Hello', 'World']"
      ]
     },
     "execution_count": 42,
     "metadata": {},
     "output_type": "execute_result"
    }
   ],
   "source": [
    "'Hello World'.split()"
   ]
  },
  {
   "cell_type": "code",
   "execution_count": 43,
   "id": "304c6c10-8387-4c9f-9dd3-0228a7ce8b05",
   "metadata": {},
   "outputs": [
    {
     "data": {
      "text/plain": [
       "'Hello World!'"
      ]
     },
     "execution_count": 43,
     "metadata": {},
     "output_type": "execute_result"
    }
   ],
   "source": [
    "msg"
   ]
  },
  {
   "cell_type": "code",
   "execution_count": 46,
   "id": "434e331f-ec16-474b-abf3-65aadac78910",
   "metadata": {},
   "outputs": [
    {
     "data": {
      "text/plain": [
       "3"
      ]
     },
     "execution_count": 46,
     "metadata": {},
     "output_type": "execute_result"
    }
   ],
   "source": [
    "msg.count('l')"
   ]
  },
  {
   "cell_type": "code",
   "execution_count": 47,
   "id": "6b4583bf-5159-41a4-a890-c62a1e224867",
   "metadata": {},
   "outputs": [
    {
     "data": {
      "text/plain": [
       "'Hello Planet'"
      ]
     },
     "execution_count": 47,
     "metadata": {},
     "output_type": "execute_result"
    }
   ],
   "source": [
    "msg.replace('World!','Planet')"
   ]
  },
  {
   "cell_type": "code",
   "execution_count": 49,
   "id": "e46b16f1-37b4-4f19-8bc3-9acb0dd2e535",
   "metadata": {},
   "outputs": [
    {
     "data": {
      "text/plain": [
       "'hELLO wORLD!'"
      ]
     },
     "execution_count": 49,
     "metadata": {},
     "output_type": "execute_result"
    }
   ],
   "source": [
    "msg.swapcase()"
   ]
  },
  {
   "cell_type": "code",
   "execution_count": 50,
   "id": "2ea146e0-7da3-4a33-b061-d8a66b02c052",
   "metadata": {},
   "outputs": [
    {
     "data": {
      "text/plain": [
       "' '"
      ]
     },
     "execution_count": 50,
     "metadata": {},
     "output_type": "execute_result"
    }
   ],
   "source": [
    "min(msg)"
   ]
  },
  {
   "cell_type": "code",
   "execution_count": 51,
   "id": "1eb8168d-29bf-4991-a97b-a0a4ab8c78b9",
   "metadata": {},
   "outputs": [
    {
     "data": {
      "text/plain": [
       "'r'"
      ]
     },
     "execution_count": 51,
     "metadata": {},
     "output_type": "execute_result"
    }
   ],
   "source": [
    "max(msg)"
   ]
  },
  {
   "cell_type": "code",
   "execution_count": 52,
   "id": "155bdf7a-85b6-4422-bb67-ee14c87768aa",
   "metadata": {},
   "outputs": [
    {
     "data": {
      "text/plain": [
       "False"
      ]
     },
     "execution_count": 52,
     "metadata": {},
     "output_type": "execute_result"
    }
   ],
   "source": [
    "msg.isalpha()"
   ]
  },
  {
   "cell_type": "code",
   "execution_count": 53,
   "id": "f8aa6d17-1e68-491d-9f4a-f7dd2cdbaa0f",
   "metadata": {},
   "outputs": [
    {
     "data": {
      "text/plain": [
       "False"
      ]
     },
     "execution_count": 53,
     "metadata": {},
     "output_type": "execute_result"
    }
   ],
   "source": [
    "msg.isnumeric()"
   ]
  },
  {
   "cell_type": "code",
   "execution_count": 56,
   "id": "fc37c733-1c57-46a7-a308-55147a880d65",
   "metadata": {},
   "outputs": [],
   "source": [
    "day='25th'\n",
    "month='December'\n",
    "year='2024'"
   ]
  },
  {
   "cell_type": "code",
   "execution_count": 57,
   "id": "affb34e9-47d1-4f16-834d-aa658858b2ed",
   "metadata": {},
   "outputs": [],
   "source": [
    "date=day+' '+month+' '+year"
   ]
  },
  {
   "cell_type": "code",
   "execution_count": 58,
   "id": "f29181e0-e9ec-4741-996f-094d2fc465ce",
   "metadata": {},
   "outputs": [
    {
     "data": {
      "text/plain": [
       "'25th December 2024'"
      ]
     },
     "execution_count": 58,
     "metadata": {},
     "output_type": "execute_result"
    }
   ],
   "source": [
    "date"
   ]
  },
  {
   "cell_type": "code",
   "execution_count": 59,
   "id": "4b8ffe43-08ee-4486-a4e8-3ab349f64b37",
   "metadata": {},
   "outputs": [
    {
     "data": {
      "text/plain": [
       "False"
      ]
     },
     "execution_count": 59,
     "metadata": {},
     "output_type": "execute_result"
    }
   ],
   "source": [
    "date.isnumeric()"
   ]
  },
  {
   "cell_type": "code",
   "execution_count": null,
   "id": "85468b89-d935-4ab7-a96e-092f450c4cd0",
   "metadata": {},
   "outputs": [],
   "source": []
  }
 ],
 "metadata": {
  "kernelspec": {
   "display_name": "Python 3 (ipykernel)",
   "language": "python",
   "name": "python3"
  },
  "language_info": {
   "codemirror_mode": {
    "name": "ipython",
    "version": 3
   },
   "file_extension": ".py",
   "mimetype": "text/x-python",
   "name": "python",
   "nbconvert_exporter": "python",
   "pygments_lexer": "ipython3",
   "version": "3.12.7"
  }
 },
 "nbformat": 4,
 "nbformat_minor": 5
}
