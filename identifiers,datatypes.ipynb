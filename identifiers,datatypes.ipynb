{
 "cells": [
  {
   "cell_type": "markdown",
   "id": "c89c7995-bb41-4f06-b834-419a9db72822",
   "metadata": {},
   "source": [
    "RULES TO DEFINE PYTHON IDENTIFIERS"
   ]
  },
  {
   "cell_type": "code",
   "execution_count": 95,
   "id": "1e8210f2-40a2-488a-8c90-25896a373f71",
   "metadata": {},
   "outputs": [
    {
     "ename": "SyntaxError",
     "evalue": "cannot assign to literal here. Maybe you meant '==' instead of '='? (2784586188.py, line 1)",
     "output_type": "error",
     "traceback": [
      "\u001b[1;36m  Cell \u001b[1;32mIn[95], line 1\u001b[1;36m\u001b[0m\n\u001b[1;33m    7=A\u001b[0m\n\u001b[1;37m    ^\u001b[0m\n\u001b[1;31mSyntaxError\u001b[0m\u001b[1;31m:\u001b[0m cannot assign to literal here. Maybe you meant '==' instead of '='?\n"
     ]
    }
   ],
   "source": [
    "7=A"
   ]
  },
  {
   "cell_type": "code",
   "execution_count": null,
   "id": "60ece8b5-86ad-4179-bb7a-1268d41f90b7",
   "metadata": {},
   "outputs": [],
   "source": [
    "A=7"
   ]
  },
  {
   "cell_type": "code",
   "execution_count": null,
   "id": "9095087a-31ee-46ef-894f-44a638fdddab",
   "metadata": {},
   "outputs": [],
   "source": [
    "A"
   ]
  },
  {
   "cell_type": "code",
   "execution_count": null,
   "id": "109969b2-c22e-4c4f-9023-afdec0ba84b4",
   "metadata": {},
   "outputs": [],
   "source": [
    "2X=24"
   ]
  },
  {
   "cell_type": "code",
   "execution_count": null,
   "id": "a063dc3d-09fe-4574-bbf7-b1462557867a",
   "metadata": {},
   "outputs": [],
   "source": [
    "@B=9"
   ]
  },
  {
   "cell_type": "code",
   "execution_count": null,
   "id": "5e3bb6e5-d451-410f-8fc2-94176c2a7556",
   "metadata": {},
   "outputs": [],
   "source": [
    "-B=9"
   ]
  },
  {
   "cell_type": "code",
   "execution_count": null,
   "id": "64c4cd1e-556a-46bd-9146-6578fdf97e63",
   "metadata": {},
   "outputs": [],
   "source": [
    "__2B=9"
   ]
  },
  {
   "cell_type": "code",
   "execution_count": null,
   "id": "b13977ae-2daa-451a-b377-3aabccd53a5f",
   "metadata": {},
   "outputs": [],
   "source": [
    "__2B"
   ]
  },
  {
   "cell_type": "code",
   "execution_count": null,
   "id": "439dc4bf-d420-4fbb-957a-ed5cbcf7db66",
   "metadata": {},
   "outputs": [],
   "source": [
    "2_B=9"
   ]
  },
  {
   "cell_type": "code",
   "execution_count": null,
   "id": "b8ea2f2a-fb4f-4745-b43b-b9750eeac3e5",
   "metadata": {},
   "outputs": [],
   "source": [
    "import keyword\n",
    "keyword.kwlist"
   ]
  },
  {
   "cell_type": "code",
   "execution_count": null,
   "id": "7a298d40-34b6-4d24-abb4-5db1dde34f93",
   "metadata": {},
   "outputs": [],
   "source": [
    "True=50"
   ]
  },
  {
   "cell_type": "code",
   "execution_count": null,
   "id": "06e02847-b4c0-4769-aafd-ec1aae57b849",
   "metadata": {},
   "outputs": [],
   "source": [
    "global='45'"
   ]
  },
  {
   "cell_type": "markdown",
   "id": "70dd856b-f143-474a-a842-24d47b84b95b",
   "metadata": {},
   "source": [
    "PYTHON DATA TYPES\n"
   ]
  },
  {
   "cell_type": "code",
   "execution_count": null,
   "id": "e01f7953-96cb-475e-a51c-683e99007e4e",
   "metadata": {},
   "outputs": [],
   "source": [
    "a=3\n",
    "type(a)"
   ]
  },
  {
   "cell_type": "code",
   "execution_count": null,
   "id": "3aca36b5-e42c-4b7c-9cb3-fb2e4fb997ee",
   "metadata": {},
   "outputs": [],
   "source": [
    "petrol=110.56"
   ]
  },
  {
   "cell_type": "code",
   "execution_count": null,
   "id": "85372ab8-602c-4146-8bab-e68def1c60dc",
   "metadata": {},
   "outputs": [],
   "source": [
    "type(petrol)"
   ]
  },
  {
   "cell_type": "code",
   "execution_count": null,
   "id": "08e6315f-e79a-497f-aa17-0820e6768458",
   "metadata": {},
   "outputs": [],
   "source": [
    "b=2e0"
   ]
  },
  {
   "cell_type": "code",
   "execution_count": null,
   "id": "01353266-ebc8-4206-8148-45bb60db870c",
   "metadata": {},
   "outputs": [],
   "source": [
    "b"
   ]
  },
  {
   "cell_type": "code",
   "execution_count": null,
   "id": "cd35770e-b834-4f46-9fe0-b8fb7df3414a",
   "metadata": {},
   "outputs": [],
   "source": [
    "type(b)"
   ]
  },
  {
   "cell_type": "code",
   "execution_count": null,
   "id": "1fcab398-5421-4dc2-adba-774cc2457be5",
   "metadata": {},
   "outputs": [],
   "source": [
    "c=3e4"
   ]
  },
  {
   "cell_type": "code",
   "execution_count": null,
   "id": "d5e80a0f-b9b2-4c88-8552-24418130151d",
   "metadata": {},
   "outputs": [],
   "source": [
    "print(type(c))\n",
    "print(c)"
   ]
  },
  {
   "cell_type": "code",
   "execution_count": null,
   "id": "d05385a4-ef39-400d-9099-31514c927cde",
   "metadata": {},
   "outputs": [],
   "source": [
    "s='john'\n",
    "s"
   ]
  },
  {
   "cell_type": "code",
   "execution_count": null,
   "id": "7708e386-1c61-4f10-a7fc-0455e877ce22",
   "metadata": {},
   "outputs": [],
   "source": [
    "s1=\"john\""
   ]
  },
  {
   "cell_type": "code",
   "execution_count": null,
   "id": "6744d84c-6b80-41ca-967f-6a21ab5c12d9",
   "metadata": {},
   "outputs": [],
   "source": [
    "s1"
   ]
  },
  {
   "cell_type": "code",
   "execution_count": null,
   "id": "7394949b-232e-4d1a-9507-fa82c4de254c",
   "metadata": {},
   "outputs": [],
   "source": [
    "s2='''john'''\n",
    "s2"
   ]
  },
  {
   "cell_type": "code",
   "execution_count": null,
   "id": "d4545cbc-44be-4883-a139-70129101d96d",
   "metadata": {},
   "outputs": [],
   "source": [
    "s3='python\n",
    "        variable'"
   ]
  },
  {
   "cell_type": "code",
   "execution_count": null,
   "id": "01074938-47ac-416f-9275-2b09608ec971",
   "metadata": {},
   "outputs": [],
   "source": [
    "s3='''python\n",
    "       variable'''"
   ]
  },
  {
   "cell_type": "code",
   "execution_count": null,
   "id": "3ae4e2ac-df13-4b72-8e99-9c603a5272f9",
   "metadata": {},
   "outputs": [],
   "source": [
    "s3"
   ]
  },
  {
   "cell_type": "code",
   "execution_count": null,
   "id": "6f5612f1-7f41-4ef4-a596-9be4e218b6e2",
   "metadata": {},
   "outputs": [],
   "source": [
    "A=True\n",
    "type(A)"
   ]
  },
  {
   "cell_type": "code",
   "execution_count": null,
   "id": "62b11f6e-05b2-4030-bf11-6923d7b299ca",
   "metadata": {},
   "outputs": [],
   "source": [
    "B=False\n",
    "type(B)"
   ]
  },
  {
   "cell_type": "code",
   "execution_count": null,
   "id": "c0f18c64-6f27-4cc5-ac5a-e7869a2ee81c",
   "metadata": {},
   "outputs": [],
   "source": [
    "A+B"
   ]
  },
  {
   "cell_type": "code",
   "execution_count": null,
   "id": "66318d67-d3ad-4a8b-8523-cf2317bd35d0",
   "metadata": {},
   "outputs": [],
   "source": [
    "A-B"
   ]
  },
  {
   "cell_type": "code",
   "execution_count": null,
   "id": "bfb7c5e6-6778-46e6-b90f-6b334a889688",
   "metadata": {},
   "outputs": [],
   "source": [
    "True+False"
   ]
  },
  {
   "cell_type": "code",
   "execution_count": null,
   "id": "5a149a05-6109-4eec-80e7-6ab48045a152",
   "metadata": {},
   "outputs": [],
   "source": [
    "True-False"
   ]
  },
  {
   "cell_type": "code",
   "execution_count": null,
   "id": "86935d59-8e28-41dc-b12a-d76a6dd1f454",
   "metadata": {},
   "outputs": [],
   "source": [
    "True/False"
   ]
  },
  {
   "cell_type": "code",
   "execution_count": null,
   "id": "7d340356-7ad2-4ad6-9739-e68ecf86f06a",
   "metadata": {},
   "outputs": [],
   "source": [
    "C=False/True"
   ]
  },
  {
   "cell_type": "code",
   "execution_count": null,
   "id": "2074c942-d955-4aba-8f5c-580199431ef1",
   "metadata": {},
   "outputs": [],
   "source": [
    "type(C)"
   ]
  },
  {
   "cell_type": "code",
   "execution_count": 96,
   "id": "eea0af42-8d02-4e65-a9da-f3b66b8c0d54",
   "metadata": {},
   "outputs": [
    {
     "data": {
      "text/plain": [
       "int"
      ]
     },
     "execution_count": 96,
     "metadata": {},
     "output_type": "execute_result"
    }
   ],
   "source": [
    "D=False//True\n",
    "type(D)"
   ]
  },
  {
   "cell_type": "code",
   "execution_count": 97,
   "id": "2fc88de1-a41b-46e7-b9ed-05adeeecfb9e",
   "metadata": {},
   "outputs": [
    {
     "data": {
      "text/plain": [
       "complex"
      ]
     },
     "execution_count": 97,
     "metadata": {},
     "output_type": "execute_result"
    }
   ],
   "source": [
    "x=1+2j\n",
    "type(x)"
   ]
  },
  {
   "cell_type": "code",
   "execution_count": 98,
   "id": "b495b63b-b609-4195-b33a-fbab610bb77b",
   "metadata": {},
   "outputs": [
    {
     "data": {
      "text/plain": [
       "2.0"
      ]
     },
     "execution_count": 98,
     "metadata": {},
     "output_type": "execute_result"
    }
   ],
   "source": [
    "x.imag"
   ]
  },
  {
   "cell_type": "code",
   "execution_count": 99,
   "id": "86412253-ac2b-4075-9bfc-638cd131b0b1",
   "metadata": {},
   "outputs": [
    {
     "data": {
      "text/plain": [
       "1.0"
      ]
     },
     "execution_count": 99,
     "metadata": {},
     "output_type": "execute_result"
    }
   ],
   "source": [
    "x.real"
   ]
  },
  {
   "cell_type": "code",
   "execution_count": 100,
   "id": "6aa306d6-75b1-46e0-ad0d-203b660ed5df",
   "metadata": {},
   "outputs": [
    {
     "data": {
      "text/plain": [
       "(1-2j)"
      ]
     },
     "execution_count": 100,
     "metadata": {},
     "output_type": "execute_result"
    }
   ],
   "source": [
    "x.conjugate()"
   ]
  },
  {
   "cell_type": "code",
   "execution_count": 101,
   "id": "ed149307-faef-4610-bf1e-028578110526",
   "metadata": {},
   "outputs": [],
   "source": [
    "name='sanjan'"
   ]
  },
  {
   "cell_type": "code",
   "execution_count": 102,
   "id": "99198f9b-c7d2-4b77-a7d8-0575fd8a35b3",
   "metadata": {},
   "outputs": [
    {
     "data": {
      "text/plain": [
       "'sanjan'"
      ]
     },
     "execution_count": 102,
     "metadata": {},
     "output_type": "execute_result"
    }
   ],
   "source": [
    "name[:]"
   ]
  },
  {
   "cell_type": "code",
   "execution_count": 103,
   "id": "01edb7e1-b9ea-43c8-a90d-5a81c1b35a60",
   "metadata": {},
   "outputs": [
    {
     "data": {
      "text/plain": [
       "'anjan'"
      ]
     },
     "execution_count": 103,
     "metadata": {},
     "output_type": "execute_result"
    }
   ],
   "source": [
    "name[1:]"
   ]
  },
  {
   "cell_type": "code",
   "execution_count": 104,
   "id": "bc16f8eb-c6f2-49cc-9d6e-68c0ab1de6c1",
   "metadata": {},
   "outputs": [
    {
     "data": {
      "text/plain": [
       "'najnas'"
      ]
     },
     "execution_count": 104,
     "metadata": {},
     "output_type": "execute_result"
    }
   ],
   "source": [
    "name[::-1]"
   ]
  },
  {
   "cell_type": "code",
   "execution_count": 105,
   "id": "0f0797dd-f9ad-441e-8763-451ebf62a60c",
   "metadata": {},
   "outputs": [
    {
     "data": {
      "text/plain": [
       "'sanj'"
      ]
     },
     "execution_count": 105,
     "metadata": {},
     "output_type": "execute_result"
    }
   ],
   "source": [
    "name[:4]"
   ]
  },
  {
   "cell_type": "code",
   "execution_count": 106,
   "id": "339190b9-78b6-49cd-89f1-2681b9633e0e",
   "metadata": {},
   "outputs": [
    {
     "data": {
      "text/plain": [
       "'sna'"
      ]
     },
     "execution_count": 106,
     "metadata": {},
     "output_type": "execute_result"
    }
   ],
   "source": [
    "name[:5:2]"
   ]
  },
  {
   "cell_type": "code",
   "execution_count": 107,
   "id": "23d0ecd9-727b-4598-af67-35d1ba1edb70",
   "metadata": {},
   "outputs": [
    {
     "data": {
      "text/plain": [
       "'sanja'"
      ]
     },
     "execution_count": 107,
     "metadata": {},
     "output_type": "execute_result"
    }
   ],
   "source": [
    "name[-6:-1]"
   ]
  },
  {
   "cell_type": "code",
   "execution_count": 108,
   "id": "d7b263c3-488b-453b-84c0-c0407bdfd5a5",
   "metadata": {},
   "outputs": [],
   "source": [
    "month='december'"
   ]
  },
  {
   "cell_type": "code",
   "execution_count": 109,
   "id": "6ce9733b-3b98-4da2-9091-3238e493cf9b",
   "metadata": {},
   "outputs": [],
   "source": [
    "day='25'"
   ]
  },
  {
   "cell_type": "code",
   "execution_count": 110,
   "id": "8e4210b7-c253-477c-bc18-f32ff7f0c1af",
   "metadata": {},
   "outputs": [],
   "source": [
    "year='2024'"
   ]
  },
  {
   "cell_type": "code",
   "execution_count": 111,
   "id": "5c3c3a98-588e-4305-8426-7550682f6a93",
   "metadata": {},
   "outputs": [],
   "source": [
    "Date=month+day+year"
   ]
  },
  {
   "cell_type": "code",
   "execution_count": 112,
   "id": "2a3ddf90-9c27-4e29-b629-a9723aa51b1f",
   "metadata": {},
   "outputs": [
    {
     "data": {
      "text/plain": [
       "'december252024'"
      ]
     },
     "execution_count": 112,
     "metadata": {},
     "output_type": "execute_result"
    }
   ],
   "source": [
    "Date"
   ]
  },
  {
   "cell_type": "code",
   "execution_count": 113,
   "id": "b23c0d85-aad7-45ca-854c-6bb7d19f282d",
   "metadata": {},
   "outputs": [],
   "source": [
    "Date=month+' '+day+' '+year"
   ]
  },
  {
   "cell_type": "code",
   "execution_count": 114,
   "id": "9d34e8ee-ef6f-4d90-b9b9-033f252668d5",
   "metadata": {},
   "outputs": [
    {
     "data": {
      "text/plain": [
       "'december 25 2024'"
      ]
     },
     "execution_count": 114,
     "metadata": {},
     "output_type": "execute_result"
    }
   ],
   "source": [
    "Date"
   ]
  },
  {
   "cell_type": "code",
   "execution_count": 116,
   "id": "b57a072a-f3bf-4a9e-828a-13cd5fbc2bb5",
   "metadata": {},
   "outputs": [
    {
     "data": {
      "text/plain": [
       "'December 25 2024'"
      ]
     },
     "execution_count": 116,
     "metadata": {},
     "output_type": "execute_result"
    }
   ],
   "source": [
    "Date.capitalize()"
   ]
  },
  {
   "cell_type": "code",
   "execution_count": null,
   "id": "9f60484f-74b6-4e59-917e-41f46dc9f1f9",
   "metadata": {},
   "outputs": [],
   "source": []
  }
 ],
 "metadata": {
  "kernelspec": {
   "display_name": "Python 3 (ipykernel)",
   "language": "python",
   "name": "python3"
  },
  "language_info": {
   "codemirror_mode": {
    "name": "ipython",
    "version": 3
   },
   "file_extension": ".py",
   "mimetype": "text/x-python",
   "name": "python",
   "nbconvert_exporter": "python",
   "pygments_lexer": "ipython3",
   "version": "3.12.7"
  }
 },
 "nbformat": 4,
 "nbformat_minor": 5
}
