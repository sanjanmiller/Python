{
 "cells": [
  {
   "cell_type": "markdown",
   "id": "c89c7995-bb41-4f06-b834-419a9db72822",
   "metadata": {},
   "source": [
    "RULES TO DEFINE PYTHON IDENTIFIERS"
   ]
  },
  {
   "cell_type": "code",
   "execution_count": 95,
   "id": "1e8210f2-40a2-488a-8c90-25896a373f71",
   "metadata": {},
   "outputs": [
    {
     "ename": "SyntaxError",
     "evalue": "cannot assign to literal here. Maybe you meant '==' instead of '='? (2784586188.py, line 1)",
     "output_type": "error",
     "traceback": [
      "\u001b[1;36m  Cell \u001b[1;32mIn[95], line 1\u001b[1;36m\u001b[0m\n\u001b[1;33m    7=A\u001b[0m\n\u001b[1;37m    ^\u001b[0m\n\u001b[1;31mSyntaxError\u001b[0m\u001b[1;31m:\u001b[0m cannot assign to literal here. Maybe you meant '==' instead of '='?\n"
     ]
    }
   ],
   "source": [
    "7=A"
   ]
  },
  {
   "cell_type": "code",
   "execution_count": null,
   "id": "60ece8b5-86ad-4179-bb7a-1268d41f90b7",
   "metadata": {},
   "outputs": [],
   "source": [
    "A=7"
   ]
  },
  {
   "cell_type": "code",
   "execution_count": null,
   "id": "9095087a-31ee-46ef-894f-44a638fdddab",
   "metadata": {},
   "outputs": [],
   "source": [
    "A"
   ]
  },
  {
   "cell_type": "code",
   "execution_count": null,
   "id": "109969b2-c22e-4c4f-9023-afdec0ba84b4",
   "metadata": {},
   "outputs": [],
   "source": [
    "2X=24"
   ]
  },
  {
   "cell_type": "code",
   "execution_count": null,
   "id": "a063dc3d-09fe-4574-bbf7-b1462557867a",
   "metadata": {},
   "outputs": [],
   "source": [
    "@B=9"
   ]
  },
  {
   "cell_type": "code",
   "execution_count": null,
   "id": "5e3bb6e5-d451-410f-8fc2-94176c2a7556",
   "metadata": {},
   "outputs": [],
   "source": [
    "-B=9"
   ]
  },
  {
   "cell_type": "code",
   "execution_count": null,
   "id": "64c4cd1e-556a-46bd-9146-6578fdf97e63",
   "metadata": {},
   "outputs": [],
   "source": [
    "__2B=9"
   ]
  },
  {
   "cell_type": "code",
   "execution_count": null,
   "id": "b13977ae-2daa-451a-b377-3aabccd53a5f",
   "metadata": {},
   "outputs": [],
   "source": [
    "__2B"
   ]
  },
  {
   "cell_type": "code",
   "execution_count": null,
   "id": "439dc4bf-d420-4fbb-957a-ed5cbcf7db66",
   "metadata": {},
   "outputs": [],
   "source": [
    "2_B=9"
   ]
  },
  {
   "cell_type": "code",
   "execution_count": null,
   "id": "b8ea2f2a-fb4f-4745-b43b-b9750eeac3e5",
   "metadata": {},
   "outputs": [],
   "source": [
    "import keyword\n",
    "keyword.kwlist"
   ]
  },
  {
   "cell_type": "code",
   "execution_count": null,
   "id": "7a298d40-34b6-4d24-abb4-5db1dde34f93",
   "metadata": {},
   "outputs": [],
   "source": [
    "True=50"
   ]
  },
  {
   "cell_type": "code",
   "execution_count": null,
   "id": "06e02847-b4c0-4769-aafd-ec1aae57b849",
   "metadata": {},
   "outputs": [],
   "source": [
    "global='45'"
   ]
  },
  {
   "cell_type": "markdown",
   "id": "70dd856b-f143-474a-a842-24d47b84b95b",
   "metadata": {},
   "source": [
    "PYTHON DATA TYPES\n"
   ]
  },
  {
   "cell_type": "code",
   "execution_count": null,
   "id": "e01f7953-96cb-475e-a51c-683e99007e4e",
   "metadata": {},
   "outputs": [],
   "source": [
    "a=3\n",
    "type(a)"
   ]
  },
  {
   "cell_type": "code",
   "execution_count": null,
   "id": "3aca36b5-e42c-4b7c-9cb3-fb2e4fb997ee",
   "metadata": {},
   "outputs": [],
   "source": [
    "petrol=110.56"
   ]
  },
  {
   "cell_type": "code",
   "execution_count": null,
   "id": "85372ab8-602c-4146-8bab-e68def1c60dc",
   "metadata": {},
   "outputs": [],
   "source": [
    "type(petrol)"
   ]
  },
  {
   "cell_type": "code",
   "execution_count": null,
   "id": "08e6315f-e79a-497f-aa17-0820e6768458",
   "metadata": {},
   "outputs": [],
   "source": [
    "b=2e0"
   ]
  },
  {
   "cell_type": "code",
   "execution_count": null,
   "id": "01353266-ebc8-4206-8148-45bb60db870c",
   "metadata": {},
   "outputs": [],
   "source": [
    "b"
   ]
  },
  {
   "cell_type": "code",
   "execution_count": null,
   "id": "cd35770e-b834-4f46-9fe0-b8fb7df3414a",
   "metadata": {},
   "outputs": [],
   "source": [
    "type(b)"
   ]
  },
  {
   "cell_type": "code",
   "execution_count": null,
   "id": "1fcab398-5421-4dc2-adba-774cc2457be5",
   "metadata": {},
   "outputs": [],
   "source": [
    "c=3e4"
   ]
  },
  {
   "cell_type": "code",
   "execution_count": null,
   "id": "d5e80a0f-b9b2-4c88-8552-24418130151d",
   "metadata": {},
   "outputs": [],
   "source": [
    "print(type(c))\n",
    "print(c)"
   ]
  },
  {
   "cell_type": "code",
   "execution_count": null,
   "id": "d05385a4-ef39-400d-9099-31514c927cde",
   "metadata": {},
   "outputs": [],
   "source": [
    "s='john'\n",
    "s"
   ]
  },
  {
   "cell_type": "code",
   "execution_count": null,
   "id": "7708e386-1c61-4f10-a7fc-0455e877ce22",
   "metadata": {},
   "outputs": [],
   "source": [
    "s1=\"john\""
   ]
  },
  {
   "cell_type": "code",
   "execution_count": null,
   "id": "6744d84c-6b80-41ca-967f-6a21ab5c12d9",
   "metadata": {},
   "outputs": [],
   "source": [
    "s1"
   ]
  },
  {
   "cell_type": "code",
   "execution_count": null,
   "id": "7394949b-232e-4d1a-9507-fa82c4de254c",
   "metadata": {},
   "outputs": [],
   "source":
